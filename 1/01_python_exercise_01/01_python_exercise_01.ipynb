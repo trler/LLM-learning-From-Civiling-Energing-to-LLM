{
 "cells": [
  {
   "cell_type": "markdown",
   "metadata": {},
   "source": [
    "### 第二章 变量和简单的数据类型"
   ]
  },
  {
   "cell_type": "code",
   "execution_count": 2,
   "metadata": {},
   "outputs": [],
   "source": [
    "# 分别将 【字符串、整型、浮点型、布尔型】 赋值给不同的变量，用 type() 查看他们的类型，并print出来\n",
    "# 提示：不知道 type() 如何使用，给出了2种方式\n",
    "# https://www.csdn.net/  这是从事AI类工作经常要求助的网站之一\n",
    "# https://kimi.moonshot.cn/  求助聊天机器人，也是从事AI工作中解决问题的方式之一。没有条件访问ChatGPT的同学，可以用这个网站代替，完全免费\n",
    "# 答案写在下方单元格内"
   ]
  },
  {
   "cell_type": "code",
   "execution_count": 7,
   "metadata": {},
   "outputs": [
    {
     "name": "stdout",
     "output_type": "stream",
     "text": [
      "<class 'int'>\n",
      "<class 'float'>\n",
      "<class 'str'>\n",
      "<class 'bool'>\n"
     ]
    }
   ],
   "source": [
    "print(type(1))\n",
    "print(type(1.2))\n",
    "print(type('sdf'))\n",
    "print(type(True))"
   ]
  },
  {
   "cell_type": "code",
   "execution_count": null,
   "metadata": {},
   "outputs": [],
   "source": [
    "var_str = int\n",
    "var_int = float\n",
    "var_float = str\n",
    "var_boolean = bool"
   ]
  },
  {
   "cell_type": "code",
   "execution_count": null,
   "metadata": {},
   "outputs": [],
   "source": [
    "# 使用 int(), float(), str() 将上述变量互相转换类型，并再次用type() 查看类型\n",
    "# 提示：布尔类型不用参与转换"
   ]
  },
  {
   "cell_type": "code",
   "execution_count": 9,
   "metadata": {},
   "outputs": [
    {
     "name": "stdout",
     "output_type": "stream",
     "text": [
      "<class 'int'>\n",
      "<class 'int'>\n",
      "<class 'float'>\n",
      "<class 'float'>\n",
      "<class 'str'>\n",
      "<class 'str'>\n"
     ]
    }
   ],
   "source": [
    "print(type(int(\"123\")))\n",
    "print(type(int(1.2)))\n",
    "print(type(float(1)))\n",
    "print(type(float(\"1.23\")))\n",
    "print(type(str(1)))\n",
    "print(type(str(1.2)))"
   ]
  },
  {
   "cell_type": "code",
   "execution_count": null,
   "metadata": {},
   "outputs": [],
   "source": [
    "# 用代码实现，定义一个变量，来接收圆的半径，并且分别计算圆的周长和面积。注意变量命名要符合它的实际含义，不要用拼音\n",
    "# 提示：周长circumference = π * d         面积area = π * r²"
   ]
  },
  {
   "cell_type": "code",
   "execution_count": 11,
   "metadata": {},
   "outputs": [
    {
     "name": "stdout",
     "output_type": "stream",
     "text": [
      "周长是:6.28, 面积为: 3.14\n"
     ]
    }
   ],
   "source": [
    "r = input(\"输入圆的半径: \")\n",
    "pi = 3.14\n",
    "r = int(r)\n",
    "circumference = pi * 2 * r\n",
    "area = pi * (r ** 2)\n",
    "print(f\"周长是:{circumference}, 面积为: {area}\")"
   ]
  },
  {
   "cell_type": "code",
   "execution_count": 5,
   "metadata": {},
   "outputs": [],
   "source": [
    "# 定义如下变量\n",
    "# loan_amount: 贷款金额\n",
    "# annual_rate: 年平均利率\n",
    "\n",
    "# 计算 30 年后的本息一共多少\n",
    "# total: 本息总额"
   ]
  },
  {
   "cell_type": "code",
   "execution_count": 15,
   "metadata": {},
   "outputs": [
    {
     "name": "stdout",
     "output_type": "stream",
     "text": [
      "8243201.965207781\n"
     ]
    }
   ],
   "source": [
    "loan_amount = 3_600_000\n",
    "annual_rate = 0.028\n",
    "loan_amount = int(loan_amount)\n",
    "annual_rate = float(annual_rate)\n",
    "\n",
    "year = 1\n",
    "total = loan_amount\n",
    "while year <= 30:\n",
    "    total *= 1.028\n",
    "    year += 1\n",
    "    \n",
    "print(total)\n",
    "\n",
    "\n"
   ]
  },
  {
   "cell_type": "code",
   "execution_count": null,
   "metadata": {},
   "outputs": [],
   "source": [
    "# 将下面两个字符串拼接起来，并使用 f-字符串 完整打印本句和下一句歌词\n",
    "# 提示：str_1需要把末尾的空格用python自带的字符串方法处理掉"
   ]
  },
  {
   "cell_type": "code",
   "execution_count": 18,
   "metadata": {},
   "outputs": [
    {
     "name": "stdout",
     "output_type": "stream",
     "text": [
      "秋刀鱼的滋味 \n"
     ]
    }
   ],
   "source": [
    "str_1 = '秋刀 '\n",
    "str_2 = '鱼的滋味'\n",
    "\n",
    "print(f\"{str_1.strip()}{str_2} \")"
   ]
  },
  {
   "cell_type": "code",
   "execution_count": null,
   "metadata": {},
   "outputs": [],
   "source": [
    "# 使用特殊字符串 制表符\\t 和 换行符\\n\n",
    "# 要求只能用一行代码实现，打印如下内容，预期输出：\n",
    "\n",
    "# 姓名    年龄    职业\n",
    "# --------------------\n",
    "# 张三    28    CV算法工程师\n",
    "# 李四    25    NLP算法工程师\n",
    "# 王五    32    AI产品经理"
   ]
  },
  {
   "cell_type": "code",
   "execution_count": 23,
   "metadata": {},
   "outputs": [
    {
     "name": "stdout",
     "output_type": "stream",
     "text": [
      "姓名\t年龄\t职业\n",
      "----------------------------\n",
      "张三\t28\tCV算法工程师\n",
      "李四\t25\tNLP算法工程师\n",
      "王五\t32\tAI产品经理\n"
     ]
    }
   ],
   "source": [
    "print(f\"姓名\\t年龄\\t职业\\n----------------------------\\n张三\\t28\\tCV算法工程师\\n李四\\t25\\tNLP算法工程师\\n王五\\t32\\tAI产品经理\")"
   ]
  },
  {
   "cell_type": "markdown",
   "metadata": {},
   "source": [
    "### 第三章 列表"
   ]
  },
  {
   "cell_type": "code",
   "execution_count": null,
   "metadata": {},
   "outputs": [],
   "source": [
    "# 尝试访问到如下列表的值: 777 和 999"
   ]
  },
  {
   "cell_type": "code",
   "execution_count": 60,
   "metadata": {},
   "outputs": [
    {
     "name": "stdout",
     "output_type": "stream",
     "text": [
      "777\n",
      "999\n"
     ]
    }
   ],
   "source": [
    "arr_1 = [\n",
    "    [15, 30, 999],\n",
    "    [3, 777, 5],\n",
    "    [123, 88, 1024]\n",
    "]\n",
    "print(arr_1[1][1])\n",
    "print(arr_1[0][2])"
   ]
  },
  {
   "cell_type": "code",
   "execution_count": null,
   "metadata": {},
   "outputs": [
    {
     "name": "stdout",
     "output_type": "stream",
     "text": [
      "[[15, 30, 999], [3, 777, 5], [123, 88, 1024]]\n",
      "[15, 30, 999]\n",
      "[15, 30, 999, 30]\n"
     ]
    }
   ],
   "source": [
    "# 求arr_1里所有元素的最大值、最小值、平均值\n",
    "# 提示：用到 len() 方法\n",
    "print(arr_1)\n",
    "arr_11 = arr_1[0] + arr_1[1] + arr_1[2]\n",
    "print(arr_11)\n",
    "\n",
    "\n",
    "\n",
    "\n",
    "\n",
    "\n",
    "\n"
   ]
  },
  {
   "cell_type": "code",
   "execution_count": 40,
   "metadata": {},
   "outputs": [
    {
     "name": "stdout",
     "output_type": "stream",
     "text": [
      "[[15, 30, 999, [3, 777, 5], [3, 777, 5], [3, 777, 5], [3, 777, 5], [3, 777, 5], [3, 777, 5], [3, 777, 5], [3, 777, 5], [3, 777, 5], [3, 777, 5], [3, 777, 5]], [3, 777, 5], [123, 88, 2048]]\n"
     ]
    }
   ],
   "source": [
    "# 将arr_1中的 1024 改为 2048，打印整个列表\n",
    "arr_1[2][2] = 2048\n",
    "print(arr_1)"
   ]
  },
  {
   "cell_type": "code",
   "execution_count": null,
   "metadata": {},
   "outputs": [],
   "source": []
  },
  {
   "cell_type": "code",
   "execution_count": null,
   "metadata": {},
   "outputs": [],
   "source": [
    "# 给arr_1最后一行的末尾添加一个元素 111，并将最后一行用pop()方法弹出打印\n",
    "# 提示：用到append()方法"
   ]
  },
  {
   "cell_type": "code",
   "execution_count": null,
   "metadata": {},
   "outputs": [],
   "source": []
  },
  {
   "cell_type": "code",
   "execution_count": null,
   "metadata": {},
   "outputs": [],
   "source": [
    "# 在arr_1中的777后边插入888\n",
    "# 提示：用insert()方法"
   ]
  },
  {
   "cell_type": "code",
   "execution_count": null,
   "metadata": {},
   "outputs": [],
   "source": []
  },
  {
   "cell_type": "code",
   "execution_count": null,
   "metadata": {},
   "outputs": [],
   "source": [
    "# 给定列表arr_2，将其从大到小排序"
   ]
  },
  {
   "cell_type": "code",
   "execution_count": null,
   "metadata": {},
   "outputs": [],
   "source": [
    "arr_2 =[7, 128, 34, 8888, 3, 16, 753]"
   ]
  },
  {
   "cell_type": "markdown",
   "metadata": {},
   "source": [
    "### 第四章 for循环"
   ]
  },
  {
   "cell_type": "code",
   "execution_count": null,
   "metadata": {},
   "outputs": [],
   "source": [
    "# 用 range() 创建一个数值列表arr_3 ，要求从1开始，每隔6取一次，一直到61\n",
    "# 预期输出：1, 7, 13...61"
   ]
  },
  {
   "cell_type": "code",
   "execution_count": null,
   "metadata": {},
   "outputs": [],
   "source": []
  },
  {
   "cell_type": "code",
   "execution_count": null,
   "metadata": {},
   "outputs": [],
   "source": [
    "# 用列表推导式创建一个数值列表arr_4，要求满足 y=2x+1，其中x从0到100"
   ]
  },
  {
   "cell_type": "code",
   "execution_count": null,
   "metadata": {},
   "outputs": [],
   "source": []
  },
  {
   "cell_type": "code",
   "execution_count": null,
   "metadata": {},
   "outputs": [],
   "source": [
    "# 基于arr_4，使用列表切片，打印arr_4的前5个元素、后7个元素、索引从3开始往后取4个元素"
   ]
  },
  {
   "cell_type": "code",
   "execution_count": null,
   "metadata": {},
   "outputs": [],
   "source": []
  },
  {
   "cell_type": "markdown",
   "metadata": {},
   "source": [
    "### 第五章 if语句"
   ]
  },
  {
   "cell_type": "code",
   "execution_count": null,
   "metadata": {},
   "outputs": [],
   "source": [
    "# 给定数组arr_5和初始值count_1，当数组内元素能被3整除时，count自身+1，打印arr_5里边能被3整除的元素的个数\n",
    "# 提示：使用for循环，if语句"
   ]
  },
  {
   "cell_type": "code",
   "execution_count": null,
   "metadata": {},
   "outputs": [],
   "source": [
    "count_1 = 0\n",
    "arr_5 = [val ** 3 for val in range(2, 18)]"
   ]
  },
  {
   "cell_type": "code",
   "execution_count": null,
   "metadata": {},
   "outputs": [],
   "source": [
    "# 找出arr_5中元素除以7的余数 小于等于5的个数"
   ]
  },
  {
   "cell_type": "code",
   "execution_count": null,
   "metadata": {},
   "outputs": [],
   "source": []
  },
  {
   "cell_type": "code",
   "execution_count": 8,
   "metadata": {},
   "outputs": [],
   "source": [
    "# 某游乐园要求：给定身高height和体重weight。\n",
    "# 如果身高低于140cm，并且体重低于35kg，就可以免票\n",
    "# 如果身高高于140cm，或者体重高于35kg，半票\n",
    "# 如果身高高于140cm，并且体重高于35kg，全票\n",
    "# 请打印相应信息"
   ]
  },
  {
   "cell_type": "code",
   "execution_count": null,
   "metadata": {},
   "outputs": [],
   "source": [
    "height = \n",
    "weight = "
   ]
  },
  {
   "cell_type": "code",
   "execution_count": null,
   "metadata": {},
   "outputs": [],
   "source": [
    "# 指定用户名字name，和已注册用户名列表registered_names\n",
    "# 如果name只有1个字或3个字，打印“用户名只能是2个字”\n",
    "# 如果name是空字符串，打印“请输入名字”\n",
    "# 如果name是2个字，分2种情况：\n",
    "#       如果用户名在列表中，打印“该用户名已被使用”\n",
    "#       如果不在，打印“新用户名可用”"
   ]
  },
  {
   "cell_type": "code",
   "execution_count": null,
   "metadata": {},
   "outputs": [],
   "source": [
    "registered_names = [\n",
    "    \"赵伟\", \"钱芳\", \"孙娜\", \"李强\", \"周敏\", \"吴静\", \"郑磊\", \"王军\", \"冯勇\", \"陈艳\",\n",
    "    \"褚杰\", \"卫丽\", \"蒋涛\", \"沈娟\", \"韩明\", \"杨超\", \"朱霞\", \"秦辉\", \"尤平\", \"许娟\",\n",
    "    \"吕敏\", \"施强\", \"张伟\", \"孔芳\", \"曹娜\", \"严静\", \"华磊\", \"金军\", \"魏勇\", \"陶艳\",\n",
    "    \"姜杰\", \"谢丽\", \"崔涛\", \"贾娟\", \"陈明\", \"高超\", \"林霞\", \"罗辉\", \"彭平\", \"许娟\",\n",
    "    \"张敏\", \"徐强\", \"陈伟\", \"宋芳\", \"梁娜\", \"程静\", \"任磊\", \"于军\", \"柳勇\", \"段艳\",\n",
    "    \"雷杰\", \"易丽\", \"侯涛\", \"龙娟\", \"蒋明\", \"沈超\", \"傅霞\", \"景辉\", \"熊平\", \"翟娟\",\n",
    "    \"戴敏\", \"魏强\", \"廖伟\", \"邹芳\", \"汪娜\", \"朱静\", \"冯磊\", \"王军\", \"陈勇\", \"韩艳\",\n",
    "    \"潘杰\", \"葛丽\", \"徐涛\", \"金娟\", \"严明\", \"徐超\", \"吕霞\", \"范辉\", \"董平\", \"蒋娟\",\n",
    "    \"贾敏\", \"蔡强\", \"丁伟\", \"彭芳\", \"曾娜\", \"肖静\", \"姜磊\", \"谢军\", \"袁勇\", \"余艳\",\n",
    "    \"田杰\", \"唐丽\", \"李涛\", \"吕娟\", \"何明\", \"谭超\", \"吴霞\", \"姚辉\", \"方平\", \"徐娟\"\n",
    "]\n",
    "\n",
    "name = \"\""
   ]
  },
  {
   "cell_type": "markdown",
   "metadata": {},
   "source": [
    "### 第六章 字典"
   ]
  },
  {
   "cell_type": "code",
   "execution_count": null,
   "metadata": {},
   "outputs": [],
   "source": [
    "# 创建一个空字典product_dict，存储商品价格，其中键代表商品名称，对应的值是价格，用浮点型表示\n",
    "# 依次往里边添加   吐司 - 4.5， 芝士蛋糕 - 30.0， 巧克力慕斯 - 45.0\n",
    "# 打印3行内容，\"XXX的价格是XXX元\"\n",
    "\n",
    "# 将芝士蛋糕的价格改为18.8，再次打印"
   ]
  },
  {
   "cell_type": "code",
   "execution_count": null,
   "metadata": {},
   "outputs": [],
   "source": []
  },
  {
   "cell_type": "code",
   "execution_count": null,
   "metadata": {},
   "outputs": [],
   "source": [
    "# 假设顾客要购买的清单是required_list，需要的数量分别是required_nums\n",
    "# 遍历字典product_dict，如果清单的货物不在字典中，打印“对不起，XXX卖完了”\n",
    "# 最后打印“一共XXX元”\n",
    "# 提示：可能会使用get()方法"
   ]
  },
  {
   "cell_type": "code",
   "execution_count": null,
   "metadata": {},
   "outputs": [],
   "source": [
    "required_list = ['毛毛虫面包', '吐司', '奶油泡芙', '芝士蛋糕']\n",
    "required_nums = [3, 5, 18, 1]"
   ]
  },
  {
   "cell_type": "markdown",
   "metadata": {},
   "source": [
    "### 第七章 input()和while循环"
   ]
  },
  {
   "cell_type": "code",
   "execution_count": null,
   "metadata": {},
   "outputs": [],
   "source": [
    "# 获取一个int类型的数值输入\n",
    "# 写一个while True循环\n",
    "# 当这个数小于100的时候，就把这个数自身+1，每当能被7整除，就打印出来，其余情况就什么都不打印\n",
    "# 这个数大于100时，就退出整个循环"
   ]
  },
  {
   "cell_type": "code",
   "execution_count": null,
   "metadata": {},
   "outputs": [],
   "source": []
  }
 ],
 "metadata": {
  "kernelspec": {
   "display_name": "base",
   "language": "python",
   "name": "python3"
  },
  "language_info": {
   "codemirror_mode": {
    "name": "ipython",
    "version": 3
   },
   "file_extension": ".py",
   "mimetype": "text/x-python",
   "name": "python",
   "nbconvert_exporter": "python",
   "pygments_lexer": "ipython3",
   "version": "3.11.11"
  }
 },
 "nbformat": 4,
 "nbformat_minor": 2
}
