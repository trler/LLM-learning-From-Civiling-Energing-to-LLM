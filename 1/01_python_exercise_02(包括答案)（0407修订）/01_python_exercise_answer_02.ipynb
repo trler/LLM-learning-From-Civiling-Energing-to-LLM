{
 "cells": [
  {
   "cell_type": "markdown",
   "id": "1c87c5ad",
   "metadata": {},
   "source": [
    "#### 实例001：数字组合\n",
    "**题目：**有四个数字：1、2、3、4，能组成多少个互不相同且无重复数字的三位数？各是多少？"
   ]
  },
  {
   "cell_type": "markdown",
   "id": "88e16eba",
   "metadata": {},
   "source": [
    "**程序分析：**遍历全部可能，把有重复的剃掉。"
   ]
  },
  {
   "cell_type": "code",
   "execution_count": 2,
   "id": "3b393b12",
   "metadata": {},
   "outputs": [
    {
     "name": "stdout",
     "output_type": "stream",
     "text": [
      "24\n"
     ]
    }
   ],
   "source": [
    "total = 0\n",
    "for i in range(1, 5):\n",
    "    for j in range(1, 5):\n",
    "        for k in range(1, 5):\n",
    "            if ((i != j)and(j != k)and(k != i)):\n",
    "                total += 1\n",
    "print(total)"
   ]
  },
  {
   "cell_type": "markdown",
   "id": "953a569f",
   "metadata": {},
   "source": [
    "#### 实例002：“个税计算”\n",
    "**题目：**企业发放的奖金根据利润提成。利润(I)低于或等于10万元时，奖金可提10%；利润高于10万元，低于20万元时，低于10万元的部分按10%提成，高于10万元的部分，可提成7.5%；20万到40万之间时，高于20万元的部分，可提成5%；40万到60万之间时高于40万元的部分，可提成3%；60万到100万之间时，高于60万元的部分，可提成1.5%，高于100万元时，超过100万元的部分按1%提成，从键盘输入当月利润I，求应发放奖金总数？\n",
    "\n",
    "**程序分析：**分区间计算即可。"
   ]
  },
  {
   "cell_type": "code",
   "execution_count": 2,
   "id": "a2990e73",
   "metadata": {},
   "outputs": [
    {
     "name": "stdout",
     "output_type": "stream",
     "text": [
      "10750.0\n"
     ]
    }
   ],
   "source": [
    "profit = int(input('请输入当月利润: '))\n",
    "bonus = 0\n",
    "\n",
    "thresholds = [100000, 100000, 200000, 200000, 400000]\n",
    "rates=[0.1, 0.075, 0.05, 0.03, 0.015, 0.01]\n",
    "\n",
    "for i in range(len(thresholds)):\n",
    "    if profit <= thresholds[i]:\n",
    "        bonus += profit * rates[i]\n",
    "        profit = 0\n",
    "        break\n",
    "    else:\n",
    "        bonus += thresholds[i] * rates[i]\n",
    "        profit -= thresholds[i]\n",
    "bonus += profit * rates[-1]\n",
    "print(bonus)"
   ]
  },
  {
   "cell_type": "markdown",
   "id": "02bbfc4b",
   "metadata": {},
   "source": [
    "#### 实例003：完全平方数\n",
    "**题目：**一个整数，它加上100后是一个完全平方数，再加上168又是一个完全平方数，请问该数是多少？\n",
    "\n",
    "**程序分析：**因为168对于指数爆炸来说实在太小了，所以可以直接省略数学分析，用最朴素的方法来获取上限:"
   ]
  },
  {
   "cell_type": "code",
   "execution_count": 11,
   "id": "c9ffe42b",
   "metadata": {},
   "outputs": [
    {
     "name": "stdout",
     "output_type": "stream",
     "text": [
      "85\n"
     ]
    }
   ],
   "source": [
    "n = 0\n",
    "while (n + 1) ** 2 - n * n <= 168:\n",
    "    n += 1\n",
    "\n",
    "print(n + 1)"
   ]
  },
  {
   "cell_type": "markdown",
   "id": "f27a16cb",
   "metadata": {},
   "source": [
    "思路是：最坏的结果是n的平方与(n+1)的平方刚好差168，由于是平方的关系，不可能存在比这更大的间隙。\n",
    "至于判断是否是完全平方数，最简单的方法是：平方根的值小数为0即可。\n",
    "结合起来："
   ]
  },
  {
   "cell_type": "code",
   "execution_count": 10,
   "id": "e8cd10cc",
   "metadata": {},
   "outputs": [
    {
     "name": "stdout",
     "output_type": "stream",
     "text": [
      "-99\n",
      "21\n",
      "261\n",
      "1581\n"
     ]
    }
   ],
   "source": [
    "n = 0\n",
    "while (n + 1) ** 2 - n * n <= 168:\n",
    "    n += 1\n",
    "\n",
    "for i in range((n + 1) ** 2):\n",
    "    if i ** 0.5 == int(i ** 0.5) and (i + 168) ** 0.5 == int((i + 168) ** 0.5):\n",
    "        print(i - 100)"
   ]
  },
  {
   "cell_type": "markdown",
   "id": "13272491",
   "metadata": {},
   "source": [
    "#### 实例004：这天第几天\n",
    "\n",
    "**题目：**输入某年某月某日，判断这一天是这一年的第几天？\n",
    "\n",
    "**程序分析：**特殊情况，闰年时需考虑二月多加一天："
   ]
  },
  {
   "cell_type": "code",
   "execution_count": 14,
   "id": "c16498bd",
   "metadata": {},
   "outputs": [
    {
     "name": "stdout",
     "output_type": "stream",
     "text": [
      "83\n"
     ]
    }
   ],
   "source": [
    "def is_leap_year(y):\n",
    "    return ( y % 400 == 0 or (y % 4 == 0 and y % 100 !=0 ))\n",
    "\n",
    "dof_m = [0, 31, 28, 31, 30, 31, 30, 31, 31, 30, 31, 30]\n",
    "res = 0\n",
    "year=int(input('Year:'))\n",
    "month=int(input('Month:'))\n",
    "day=int(input('day:'))\n",
    "\n",
    "if is_leap_year(year):\n",
    "    dof_m[2] += 1\n",
    "for i in range(month):\n",
    "    res += dof_m[i]\n",
    "print(res + day)"
   ]
  },
  {
   "cell_type": "markdown",
   "id": "422f3c62",
   "metadata": {},
   "source": [
    "#### 实例005：三数排序\n",
    "\n",
    "**题目：**输入三个整数x,y,z，请把这三个数由小到大输出。\n",
    "\n",
    "**程序分析：**练练手就随便找个排序算法实现一下，偷懒就直接调函数。"
   ]
  },
  {
   "cell_type": "code",
   "execution_count": 8,
   "id": "24326a55",
   "metadata": {},
   "outputs": [
    {
     "name": "stdout",
     "output_type": "stream",
     "text": [
      "[3, 8, 11]\n"
     ]
    }
   ],
   "source": [
    "raw = []\n",
    "for i in range(3):\n",
    "    x = int(input(f\"int_{i}: \"))\n",
    "    raw.append(x)\n",
    "    \n",
    "for i in range(len(raw)):\n",
    "    for j in range(i, len(raw)):\n",
    "        if raw[i] > raw[j]:\n",
    "            raw[i], raw[j] = raw[j], raw[i]\n",
    "            \n",
    "print(raw)\n",
    "\n",
    "# 也可以用sort()"
   ]
  },
  {
   "cell_type": "markdown",
   "id": "dbae869f",
   "metadata": {},
   "source": [
    "#### 实例006：斐波那契数列\n",
    "\n",
    "**题目：**斐波那契数列。\n",
    "\n",
    "**程序分析：**斐波那契数列（Fibonacci sequence），从0, 1开始，后面每一项等于前面两项之和。图方便就递归实现，图性能就用循环。"
   ]
  },
  {
   "cell_type": "code",
   "execution_count": null,
   "id": "57f56d8a",
   "metadata": {},
   "outputs": [
    {
     "name": "stdout",
     "output_type": "stream",
     "text": [
      "55\n"
     ]
    }
   ],
   "source": [
    "# 递归实现\n",
    "def fib(n):\n",
    "    if n == 0:\n",
    "        return 0\n",
    "    elif n == 1:\n",
    "        return 1\n",
    "    else:\n",
    "        return fib(n-1) + fib(n-2)\n",
    "\n",
    "print(fib(int(input(\"请输入一个整数：\"))))"
   ]
  },
  {
   "cell_type": "markdown",
   "id": "f0e2eef4",
   "metadata": {},
   "source": [
    "#### 实例007：copy\n",
    "\n",
    "**题目：**将一个列表的数据复制到另一个列表中。\n",
    "\n",
    "**程序分析：**使用列表[:]，拿不准可以调用copy模块。"
   ]
  },
  {
   "cell_type": "code",
   "execution_count": null,
   "id": "67e02949",
   "metadata": {},
   "outputs": [],
   "source": [
    "import copy\n",
    "\n",
    "a = [1, 2, 3, 4, ['a', 'b']]\n",
    "\n",
    "b = a\t\t\t\t\t# 赋值\n",
    "c = a[:]\t\t\t\t# 浅拷贝\n",
    "d = copy.copy(a)\t\t# 浅拷贝\n",
    "e = copy.deepcopy(a)\t# 深拷贝\n",
    "\n",
    "a.append(5)\n",
    "a[4].append('c')\n",
    "\n",
    "print(f\"a = {a}\")\n",
    "print(f\"b = {b}\")\n",
    "print(f\"c = {c}\")\n",
    "print(f\"d = {d}\")\n",
    "print(f\"e = {e}\")"
   ]
  },
  {
   "cell_type": "markdown",
   "id": "e8bca581",
   "metadata": {},
   "source": [
    "#### 实例008:九九乘法表\n",
    "\n",
    "**题目：**输出 9*9 乘法口诀表。\n",
    "\n",
    "**程序分析：**分行与列考虑，共9行9列，i控制行，j控制列。"
   ]
  },
  {
   "cell_type": "code",
   "execution_count": 13,
   "id": "cdba9676",
   "metadata": {},
   "outputs": [
    {
     "name": "stdout",
     "output_type": "stream",
     "text": [
      "1 * 1 = 1    \n",
      "\n",
      "2 * 1 = 2    2 * 2 = 4    \n",
      "\n",
      "3 * 1 = 3    3 * 2 = 6    3 * 3 = 9    \n",
      "\n",
      "4 * 1 = 4    4 * 2 = 8    4 * 3 = 12    4 * 4 = 16    \n",
      "\n",
      "5 * 1 = 5    5 * 2 = 10    5 * 3 = 15    5 * 4 = 20    5 * 5 = 25    \n",
      "\n",
      "6 * 1 = 6    6 * 2 = 12    6 * 3 = 18    6 * 4 = 24    6 * 5 = 30    6 * 6 = 36    \n",
      "\n",
      "7 * 1 = 7    7 * 2 = 14    7 * 3 = 21    7 * 4 = 28    7 * 5 = 35    7 * 6 = 42    7 * 7 = 49    \n",
      "\n",
      "8 * 1 = 8    8 * 2 = 16    8 * 3 = 24    8 * 4 = 32    8 * 5 = 40    8 * 6 = 48    8 * 7 = 56    8 * 8 = 64    \n",
      "\n",
      "9 * 1 = 9    9 * 2 = 18    9 * 3 = 27    9 * 4 = 36    9 * 5 = 45    9 * 6 = 54    9 * 7 = 63    9 * 8 = 72    9 * 9 = 81    \n",
      "\n"
     ]
    }
   ],
   "source": [
    "for i in range(1, 10):\n",
    "    for j in range(1, i + 1):\n",
    "        print(f\"{i} * {j} = {i * j}\", end='    ')\n",
    "    print(\"\\n\")"
   ]
  },
  {
   "cell_type": "markdown",
   "id": "cc2cdf74",
   "metadata": {},
   "source": [
    "#### 实例009：暂停一秒输出\n",
    "\n",
    "**题目：**暂停一秒输出。\n",
    "\n",
    "**程序分析：**使用 time 模块的 sleep() 函数。"
   ]
  },
  {
   "cell_type": "code",
   "execution_count": null,
   "id": "a8cfccd9",
   "metadata": {},
   "outputs": [],
   "source": [
    "import time\n",
    "\n",
    "for i in range(4):\n",
    "    print(str(int(time.time()))[-2:])\n",
    "    time.sleep(1)"
   ]
  },
  {
   "cell_type": "markdown",
   "id": "d8189a61",
   "metadata": {},
   "source": [
    "#### 实例013：所有水仙花数\n",
    "\n",
    "**题目：**打印出所有的\"水仙花数\"，所谓\"水仙花数\"是指一个三位数，其各位数字立方和等于该数本身。例如：153是一个\"水仙花数\"，因为153=1的三次方＋5的三次方＋3的三次方。\n",
    "\n",
    "**程序分析：**利用for循环控制100-999个数，每个数分解出个位，十位，百位。"
   ]
  },
  {
   "cell_type": "code",
   "execution_count": 16,
   "id": "7e8ae456",
   "metadata": {},
   "outputs": [
    {
     "name": "stdout",
     "output_type": "stream",
     "text": [
      "153\n",
      "370\n",
      "371\n",
      "407\n"
     ]
    }
   ],
   "source": [
    "for i in range(100, 1000):\n",
    "    s = str(i)\n",
    "    one = int(s[-1])\n",
    "    ten = int(s[-2])\n",
    "    hun = int(s[-3])\n",
    "    if i == one ** 3 + ten ** 3 + hun ** 3:\n",
    "        print(i)"
   ]
  },
  {
   "cell_type": "markdown",
   "id": "b9ae7038",
   "metadata": {},
   "source": [
    "#### 实例015：分数归档\n",
    "\n",
    "**题目：**利用条件运算符的嵌套来完成此题：学习成绩>=90分的同学用A表示，60-89分之间的用B表示，60分以下的用C表示。\n",
    "\n",
    "**程序分析：**用条件判断即可。"
   ]
  },
  {
   "cell_type": "code",
   "execution_count": 2,
   "id": "94087dd4",
   "metadata": {},
   "outputs": [
    {
     "ename": "KeyboardInterrupt",
     "evalue": "Interrupted by user",
     "output_type": "error",
     "traceback": [
      "\u001b[31m---------------------------------------------------------------------------\u001b[39m",
      "\u001b[31mKeyboardInterrupt\u001b[39m                         Traceback (most recent call last)",
      "\u001b[36mCell\u001b[39m\u001b[36m \u001b[39m\u001b[32mIn[2]\u001b[39m\u001b[32m, line 1\u001b[39m\n\u001b[32m----> \u001b[39m\u001b[32m1\u001b[39m points = \u001b[38;5;28mint\u001b[39m(\u001b[38;5;28;43minput\u001b[39;49m\u001b[43m(\u001b[49m\u001b[33;43m'\u001b[39;49m\u001b[33;43m输入分数：\u001b[39;49m\u001b[33;43m'\u001b[39;49m\u001b[43m)\u001b[49m)\n\u001b[32m      2\u001b[39m \u001b[38;5;28;01mif\u001b[39;00m points >= \u001b[32m90\u001b[39m:\n\u001b[32m      3\u001b[39m     grade = \u001b[33m'\u001b[39m\u001b[33mA\u001b[39m\u001b[33m'\u001b[39m\n",
      "\u001b[36mFile \u001b[39m\u001b[32m~\\AppData\\Roaming\\Python\\Python313\\site-packages\\ipykernel\\kernelbase.py:1275\u001b[39m, in \u001b[36mKernel.raw_input\u001b[39m\u001b[34m(self, prompt)\u001b[39m\n\u001b[32m   1273\u001b[39m     msg = \u001b[33m\"\u001b[39m\u001b[33mraw_input was called, but this frontend does not support input requests.\u001b[39m\u001b[33m\"\u001b[39m\n\u001b[32m   1274\u001b[39m     \u001b[38;5;28;01mraise\u001b[39;00m StdinNotImplementedError(msg)\n\u001b[32m-> \u001b[39m\u001b[32m1275\u001b[39m \u001b[38;5;28;01mreturn\u001b[39;00m \u001b[38;5;28;43mself\u001b[39;49m\u001b[43m.\u001b[49m\u001b[43m_input_request\u001b[49m\u001b[43m(\u001b[49m\n\u001b[32m   1276\u001b[39m \u001b[43m    \u001b[49m\u001b[38;5;28;43mstr\u001b[39;49m\u001b[43m(\u001b[49m\u001b[43mprompt\u001b[49m\u001b[43m)\u001b[49m\u001b[43m,\u001b[49m\n\u001b[32m   1277\u001b[39m \u001b[43m    \u001b[49m\u001b[38;5;28;43mself\u001b[39;49m\u001b[43m.\u001b[49m\u001b[43m_parent_ident\u001b[49m\u001b[43m[\u001b[49m\u001b[33;43m\"\u001b[39;49m\u001b[33;43mshell\u001b[39;49m\u001b[33;43m\"\u001b[39;49m\u001b[43m]\u001b[49m\u001b[43m,\u001b[49m\n\u001b[32m   1278\u001b[39m \u001b[43m    \u001b[49m\u001b[38;5;28;43mself\u001b[39;49m\u001b[43m.\u001b[49m\u001b[43mget_parent\u001b[49m\u001b[43m(\u001b[49m\u001b[33;43m\"\u001b[39;49m\u001b[33;43mshell\u001b[39;49m\u001b[33;43m\"\u001b[39;49m\u001b[43m)\u001b[49m\u001b[43m,\u001b[49m\n\u001b[32m   1279\u001b[39m \u001b[43m    \u001b[49m\u001b[43mpassword\u001b[49m\u001b[43m=\u001b[49m\u001b[38;5;28;43;01mFalse\u001b[39;49;00m\u001b[43m,\u001b[49m\n\u001b[32m   1280\u001b[39m \u001b[43m\u001b[49m\u001b[43m)\u001b[49m\n",
      "\u001b[36mFile \u001b[39m\u001b[32m~\\AppData\\Roaming\\Python\\Python313\\site-packages\\ipykernel\\kernelbase.py:1320\u001b[39m, in \u001b[36mKernel._input_request\u001b[39m\u001b[34m(self, prompt, ident, parent, password)\u001b[39m\n\u001b[32m   1317\u001b[39m \u001b[38;5;28;01mexcept\u001b[39;00m \u001b[38;5;167;01mKeyboardInterrupt\u001b[39;00m:\n\u001b[32m   1318\u001b[39m     \u001b[38;5;66;03m# re-raise KeyboardInterrupt, to truncate traceback\u001b[39;00m\n\u001b[32m   1319\u001b[39m     msg = \u001b[33m\"\u001b[39m\u001b[33mInterrupted by user\u001b[39m\u001b[33m\"\u001b[39m\n\u001b[32m-> \u001b[39m\u001b[32m1320\u001b[39m     \u001b[38;5;28;01mraise\u001b[39;00m \u001b[38;5;167;01mKeyboardInterrupt\u001b[39;00m(msg) \u001b[38;5;28;01mfrom\u001b[39;00m\u001b[38;5;250m \u001b[39m\u001b[38;5;28;01mNone\u001b[39;00m\n\u001b[32m   1321\u001b[39m \u001b[38;5;28;01mexcept\u001b[39;00m \u001b[38;5;167;01mException\u001b[39;00m:\n\u001b[32m   1322\u001b[39m     \u001b[38;5;28mself\u001b[39m.log.warning(\u001b[33m\"\u001b[39m\u001b[33mInvalid Message:\u001b[39m\u001b[33m\"\u001b[39m, exc_info=\u001b[38;5;28;01mTrue\u001b[39;00m)\n",
      "\u001b[31mKeyboardInterrupt\u001b[39m: Interrupted by user"
     ]
    }
   ],
   "source": [
    "points = int(input('输入分数：'))\n",
    "if points >= 90:\n",
    "    grade = 'A'\n",
    "elif points < 60:\n",
    "    grade = 'C'\n",
    "else:\n",
    "    grade = 'B'\n",
    "    \n",
    "print(grade)"
   ]
  },
  {
   "cell_type": "markdown",
   "id": "b0abb8b6",
   "metadata": {},
   "source": [
    "#### 实例017：字符串构成\n",
    "\n",
    "**题目：**输入一行字符，分别统计出其中 英文字母、空格、数字和其它字符的个数。\n",
    "\n",
    "**程序分析：**利用 while 或 for 语句,条件为输入的字符不为 '\\n'。"
   ]
  },
  {
   "cell_type": "code",
   "execution_count": null,
   "id": "fbfffab7",
   "metadata": {},
   "outputs": [
    {
     "name": "stdout",
     "output_type": "stream",
     "text": [
      "空格: 2\n",
      "数字: 9\n",
      "字母: 13\n",
      "其他: 10\n"
     ]
    }
   ],
   "source": [
    "string = input(\"输入字符串：\")\n",
    "alp = 0\n",
    "num = 0\n",
    "spa = 0\n",
    "oth = 0\n",
    "\n",
    "for i in range(len(string)):\n",
    "    if string[i].isspace():\n",
    "        spa += 1\n",
    "    elif string[i].isdigit():\n",
    "        num += 1\n",
    "    elif string[i].isalpha():\n",
    "        alp += 1\n",
    "    else:\n",
    "        oth += 1\n",
    "\n",
    "print(f\"空格: {spa}\")\n",
    "print(f\"数字: {num}\")\n",
    "print(f\"字母: {alp}\")\n",
    "print(f\"其他: {oth}\")"
   ]
  },
  {
   "cell_type": "markdown",
   "id": "17f4ecfe",
   "metadata": {},
   "source": [
    "#### 实例018：复读机相加\n",
    "\n",
    "**题目：**求s=a+aa+aaa+aaaa+aa...a的值，其中a是一个数字。例如2+22+222+2222+22222(此时共有5个数相加)，几个数相加由键盘控制。\n",
    "\n",
    "**程序分析：**用字符串解决。"
   ]
  },
  {
   "cell_type": "code",
   "execution_count": 1,
   "id": "ff65aac6",
   "metadata": {},
   "outputs": [
    {
     "name": "stdout",
     "output_type": "stream",
     "text": [
      "结果是：24690\n"
     ]
    }
   ],
   "source": [
    "a = input('被加数字：')\n",
    "n = int(input('加几次？：'))\n",
    "res = 0\n",
    "for i in range(n):\n",
    "    res += int(a)\n",
    "    a += a[0]\n",
    "\n",
    "print(f\"结果是：{res}\")"
   ]
  },
  {
   "cell_type": "markdown",
   "id": "2f43c9ad",
   "metadata": {},
   "source": [
    "#### 实例021：猴子偷桃\n",
    "\n",
    "**题目：**猴子吃桃问题：猴子第一天摘下若干个桃子，当即吃了一半，还不过瘾，又多吃了一个；第二天早上又将剩下的桃子吃掉一半，又多吃了一个。以后每天早上都吃了前一天剩下的一半零一个。到第10天早上想再吃时，见只剩下一个桃子了。求第一天共摘了多少。\n",
    "\n",
    "**程序分析：**按规则反向推断：猴子有一个桃子，他偷来一个桃子，觉得不够又偷来了与手上等量的桃子，一共偷了9天。"
   ]
  },
  {
   "cell_type": "code",
   "execution_count": 23,
   "id": "29e96449",
   "metadata": {},
   "outputs": [
    {
     "name": "stdout",
     "output_type": "stream",
     "text": [
      "1534\n"
     ]
    }
   ],
   "source": [
    "peach = 1\n",
    "for i in range(9):\n",
    "    peach = (peach + 1) * 2\n",
    "    \n",
    "print(peach)"
   ]
  },
  {
   "cell_type": "markdown",
   "id": "8270e046",
   "metadata": {},
   "source": [
    "#### 实例022：比赛对手\n",
    "\n",
    "**题目：**两个乒乓球队进行比赛，各出三人。甲队为a,b,c三人，乙队为x,y,z三人。已抽签决定比赛名单。有人向队员打听比赛的名单。a说他不和x比，c说他不和x,z比，请编程序找出三场比赛对局的名单。\n",
    "\n",
    "**程序分析：**找到条件下不重复的三个对手即可。\n",
    "\n",
    "**提示：**使用set()"
   ]
  },
  {
   "cell_type": "code",
   "execution_count": null,
   "id": "dc4d31f5",
   "metadata": {},
   "outputs": [
    {
     "name": "stdout",
     "output_type": "stream",
     "text": [
      "a: z\n",
      "b: x\n",
      "c: y\n"
     ]
    }
   ],
   "source": [
    "a = set(['x','y','z'])\n",
    "b = set(['x','y','z'])\n",
    "c = set(['x','y','z'])\n",
    "c -= set(('x','z'))\n",
    "a -= set('x')\n",
    "for i in a:\n",
    "    for j in b:\n",
    "        for k in c:\n",
    "            if len(set((i,j,k))) == 3:\n",
    "                print(f\"a: {i}\\nb: {j}\\nc: {k}\")"
   ]
  },
  {
   "cell_type": "markdown",
   "id": "fe15fdb3",
   "metadata": {},
   "source": [
    "#### 实例023：画菱形\n",
    "\n",
    "**题目：**打印出如下图案（菱形）:\n",
    "\n",
    "> &nbsp;&nbsp;&nbsp;&nbsp;\\*<br>\n",
    "> &nbsp;&nbsp;&nbsp;\\*\\*\\*<br>\n",
    "> &nbsp;&nbsp;\\*\\*\\*\\*\\*<br>\n",
    "> &nbsp;\\*\\*\\*\\*\\*\\*\\*<br>\n",
    "> &nbsp;&nbsp;\\*\\*\\*\\*\\*<br>\n",
    "> &nbsp;&nbsp;&nbsp;\\*\\*\\*<br>\n",
    "> &nbsp;&nbsp;&nbsp;&nbsp;\\*<br>\n",
    "\n",
    "**程序分析：**递归调用即可。"
   ]
  },
  {
   "cell_type": "code",
   "execution_count": null,
   "id": "8586dcc4",
   "metadata": {},
   "outputs": [
    {
     "name": "stdout",
     "output_type": "stream",
     "text": [
      "    *    \n",
      "   ***   \n",
      "  *****  \n",
      " ******* \n",
      "  *****  \n",
      "   ***   \n",
      "    *    \n"
     ]
    }
   ],
   "source": [
    "def draw(num):\n",
    "    b = num\n",
    "    a = \"*\" * (2 * (b - num) + 1)\n",
    "    print(a.center(9, ' '))\n",
    "    if num != 1:\n",
    "        draw(num - 1)\n",
    "        print(a.center(9, ' '))\n",
    "        \n",
    "draw(4)"
   ]
  },
  {
   "cell_type": "markdown",
   "id": "28cccb06",
   "metadata": {},
   "source": [
    "#### 实例024：斐波那契数列II\n",
    "\n",
    "**题目：**有一分数序列：2/1，3/2，5/3，8/5，13/8，21/13...求出这个数列的前20项之和。使用 round() 保留6位小数\n",
    "\n",
    "**程序分析：**就是斐波那契数列的后一项除以前一项。"
   ]
  },
  {
   "cell_type": "code",
   "execution_count": 30,
   "id": "84199923",
   "metadata": {},
   "outputs": [
    {
     "name": "stdout",
     "output_type": "stream",
     "text": [
      "32.660261\n"
     ]
    }
   ],
   "source": [
    "a = 2.0\n",
    "b = 1.0\n",
    "s = 0\n",
    "for n in range(1, 21):\n",
    "    s += a / b\n",
    "    a, b = a + b, a\n",
    "\n",
    "print(round(s, 6))"
   ]
  },
  {
   "cell_type": "markdown",
   "id": "a3674108",
   "metadata": {},
   "source": [
    "#### 实例025： 阶乘求和\n",
    "\n",
    "**题目：**求1+2!+3!+...+20!的和。\n",
    "\n",
    "**程序分析：**1+2!+3!+...+20!=1+2(1+3(1+4(...20(1))))"
   ]
  },
  {
   "cell_type": "code",
   "execution_count": 31,
   "id": "f3eb1206",
   "metadata": {},
   "outputs": [
    {
     "name": "stdout",
     "output_type": "stream",
     "text": [
      "2561327494111820313\n"
     ]
    }
   ],
   "source": [
    "res = 1\n",
    "for i in range(20, 1, -1):\n",
    "    res = i * res + 1\n",
    "    \n",
    "print(res)"
   ]
  },
  {
   "cell_type": "markdown",
   "id": "679d9099",
   "metadata": {},
   "source": [
    "#### 实例026：递归求阶乘\n",
    "\n",
    "**题目：**利用递归方法求5!。\n",
    "\n",
    "**程序分析：**递归调用即可。"
   ]
  },
  {
   "cell_type": "code",
   "execution_count": 32,
   "id": "7f1179aa",
   "metadata": {},
   "outputs": [
    {
     "name": "stdout",
     "output_type": "stream",
     "text": [
      "120\n"
     ]
    }
   ],
   "source": [
    "def factorial(n):\n",
    "\n",
    "    return n * factorial(n-1) if n > 1 else 1\n",
    "\n",
    "print(factorial(5))"
   ]
  },
  {
   "cell_type": "markdown",
   "id": "f0e5f1e9",
   "metadata": {},
   "source": [
    "#### 实例027：递归输出\n",
    "\n",
    "**题目：**利用递归函数调用方式，将所输入的字符，以相反顺序打印出来。\n",
    "\n",
    "**程序分析：**递归。"
   ]
  },
  {
   "cell_type": "code",
   "execution_count": 35,
   "id": "aca8d90d",
   "metadata": {},
   "outputs": [
    {
     "name": "stdout",
     "output_type": "stream",
     "text": [
      "abeleux"
     ]
    }
   ],
   "source": [
    "def rec(string):\n",
    "    if len(string) != 1:\n",
    "        rec(string[1:])\n",
    "    print(string[0], end='')\n",
    "\n",
    "rec(input('string here:'))"
   ]
  },
  {
   "cell_type": "markdown",
   "id": "6a3804f2",
   "metadata": {},
   "source": [
    "#### 实例028：递归求等差数列\n",
    "\n",
    "**题目：**有5个人坐在一起，问第五个人多少岁？他说比第4个人大2岁。问第4个人岁数，他说比第3个人大2岁。问第三个人，又说比第2人大2岁。问第2个人，说比第一个人大2岁。最后问第一个人，他说是10岁。请问第五个人多大？\n",
    "\n",
    "**程序分析：**等差数列。"
   ]
  },
  {
   "cell_type": "code",
   "execution_count": 36,
   "id": "37b90742",
   "metadata": {},
   "outputs": [
    {
     "name": "stdout",
     "output_type": "stream",
     "text": [
      "18\n"
     ]
    }
   ],
   "source": [
    "def age(n):\n",
    "    if n == 1:\n",
    "        return 10\n",
    "    return 2 + age(n-1)\n",
    "\n",
    "print(age(5))"
   ]
  },
  {
   "cell_type": "markdown",
   "id": "1f6efc38",
   "metadata": {},
   "source": [
    "#### 实例029：反向输出\n",
    "\n",
    "**题目：**给一个不多于5位的正整数，要求：一、求它是几位数，二、逆序打印出各位数字。\n",
    "\n",
    "**程序分析：**学会分解出每一位数,用字符串的方法总是比较省事。"
   ]
  },
  {
   "cell_type": "code",
   "execution_count": 37,
   "id": "4286f483",
   "metadata": {},
   "outputs": [
    {
     "name": "stdout",
     "output_type": "stream",
     "text": [
      "5位数\n",
      "14658\n"
     ]
    }
   ],
   "source": [
    "n = input('输入一个正整数：')\n",
    "\n",
    "print(f\"{len(n)}位数\")\n",
    "print(n[::-1])"
   ]
  },
  {
   "cell_type": "markdown",
   "id": "38d24f50",
   "metadata": {},
   "source": [
    "#### 实例030：回文数\n",
    "\n",
    "**题目：**一个5位数，判断它是不是回文数。即12321是回文数，个位与万位相同，十位与千位相同。\n",
    "\n",
    "**程序分析：**用字符串比较方便,就算输入的不是数字都ok。"
   ]
  },
  {
   "cell_type": "code",
   "execution_count": 40,
   "id": "dd3f56a0",
   "metadata": {},
   "outputs": [
    {
     "name": "stdout",
     "output_type": "stream",
     "text": [
      "不是回文数\n"
     ]
    }
   ],
   "source": [
    "n = input(\"随便你输入啥：\")\n",
    "a = 0\n",
    "b = len(n) - 1\n",
    "flag = True\n",
    "while a < b:\n",
    "    if n[a] != n[b]:\n",
    "        print('不是回文数')\n",
    "        flag = False\n",
    "        break\n",
    "    a, b = a + 1, b - 1\n",
    "\n",
    "if flag:\n",
    "    print('是回文数')"
   ]
  },
  {
   "cell_type": "markdown",
   "id": "252c0237",
   "metadata": {},
   "source": [
    "#### 实例031：字母识词\n",
    "\n",
    "**题目：**请输入星期几的第一个字母来判断一下是星期几，如果第一个字母一样，则继续判断第二个字母。\n",
    "\n",
    "**程序分析：**这里用字典的形式直接将对照关系存好。"
   ]
  },
  {
   "cell_type": "code",
   "execution_count": 41,
   "id": "c51ea25b",
   "metadata": {},
   "outputs": [
    {
     "name": "stdout",
     "output_type": "stream",
     "text": [
      "tuesday\n"
     ]
    }
   ],
   "source": [
    "week_t = {\n",
    "    'h':'thursday',\n",
    "    'u':'tuesday'\n",
    "}\n",
    "week_s = {\n",
    "    'a':'saturday',\n",
    "    'u':'sunday'\n",
    "    }\n",
    "week = {\n",
    "    't':week_t,\n",
    "    's':week_s,\n",
    "    'm':'monday',\n",
    "    'w':'wensday',\n",
    "    'f':'friday'\n",
    "}\n",
    "\n",
    "a = week[str(input('请输入第一位字母:')).lower()]\n",
    "if a == week_t or a == week_s:\n",
    "    print(a[str(input('请输入第二位字母:')).lower()])\n",
    "else:\n",
    "    print(a)"
   ]
  },
  {
   "cell_type": "markdown",
   "id": "16c054a8",
   "metadata": {},
   "source": [
    "#### 实例033：列表转字符串\n",
    "\n",
    "**题目：**按逗号分隔列表。\n",
    "\n",
    "**程序分析：**无。"
   ]
  },
  {
   "cell_type": "code",
   "execution_count": 42,
   "id": "8dd1a708",
   "metadata": {},
   "outputs": [
    {
     "name": "stdout",
     "output_type": "stream",
     "text": [
      "1,2,3,4,5\n"
     ]
    }
   ],
   "source": [
    "lis = [1, 2, 3, 4, 5]\n",
    "print(','.join(str(n) for n in lis))"
   ]
  },
  {
   "cell_type": "markdown",
   "id": "da9b0e36",
   "metadata": {},
   "source": [
    "#### 实例034：调用函数\n",
    "\n",
    "**题目：**练习函数调用。\n",
    "\n",
    "**程序分析：**无。"
   ]
  },
  {
   "cell_type": "code",
   "execution_count": 43,
   "id": "4fc214a6",
   "metadata": {},
   "outputs": [
    {
     "name": "stdout",
     "output_type": "stream",
     "text": [
      "Hello World!\n",
      "Hello World!\n"
     ]
    }
   ],
   "source": [
    "def hello():\n",
    "    print('Hello World!')\n",
    "\n",
    "\n",
    "def helloAgain():\n",
    "    for i in range(2):\n",
    "        hello()\n",
    "\n",
    "\n",
    "helloAgain()"
   ]
  },
  {
   "cell_type": "markdown",
   "id": "37be16c8",
   "metadata": {},
   "source": [
    "#### 实例035：设置输出颜色\n",
    "\n",
    "**题目：**体验文本颜色设置。\n",
    "\n",
    "**程序分析：**无。"
   ]
  },
  {
   "cell_type": "code",
   "execution_count": 46,
   "id": "7552955f",
   "metadata": {},
   "outputs": [
    {
     "name": "stdout",
     "output_type": "stream",
     "text": [
      "\u001b[93m警告的颜色字体!\u001b[0m\n"
     ]
    }
   ],
   "source": [
    "class bcolors:\n",
    "    HEADER = '\\033[95m'\n",
    "    OKBLUE = '\\033[94m'\n",
    "    OKGREEN = '\\033[92m'\n",
    "    WARNING = '\\033[93m'\n",
    "    FAIL = '\\033[91m'\n",
    "    ENDC = '\\033[0m'\n",
    "    BOLD = '\\033[1m'\n",
    "    UNDERLINE = '\\033[4m'\n",
    "    \n",
    "print(bcolors.WARNING + \"警告的颜色字体!\" + bcolors.ENDC)"
   ]
  },
  {
   "cell_type": "markdown",
   "id": "6bd96029",
   "metadata": {},
   "source": [
    "#### 实例038：矩阵对角线之和\n",
    "\n",
    "**题目：**求一个3*3矩阵主对角线元素之和。\n",
    "\n",
    "**程序分析：**无。"
   ]
  },
  {
   "cell_type": "code",
   "execution_count": 50,
   "id": "e2524273",
   "metadata": {},
   "outputs": [
    {
     "name": "stdout",
     "output_type": "stream",
     "text": [
      "11\n"
     ]
    }
   ],
   "source": [
    "mat = [\n",
    "    [1,2,3],\n",
    "    [3,4,5],\n",
    "    [4,5,6]\n",
    "]\n",
    "res = 0\n",
    "for i in range(len(mat)):\n",
    "    res += mat[i][i]\n",
    "    \n",
    "print(res)"
   ]
  },
  {
   "cell_type": "markdown",
   "id": "3271e008",
   "metadata": {},
   "source": [
    "#### 实例039：有序列表插入元素\n",
    "\n",
    "**题目：**有一个已经排好序的数组。现输入一个数，将它插入数组中，要求新数组还是从小到大排序\n",
    "\n",
    "**程序分析：**首先判断此数是否大于最后一个数，然后再考虑插入中间的数的情况，插入后此元素之后的数，依次后移一个位置。"
   ]
  },
  {
   "cell_type": "code",
   "execution_count": 51,
   "id": "bfcc8674",
   "metadata": {},
   "outputs": [
    {
     "name": "stdout",
     "output_type": "stream",
     "text": [
      "[1, 10, 100, 569, 1000, 10000, 100000]\n"
     ]
    }
   ],
   "source": [
    "lis = [1, 10, 100, 1000, 10000, 100000]\n",
    "n = int(input('insert a number: '))\n",
    "lis.append(n)\n",
    "for i in range(len(lis) - 1):\n",
    "    if lis[i] >= n:\n",
    "        for j in range(i, len(lis)):\n",
    "            lis[j], lis[-1] = lis[-1], lis[j]\n",
    "        break\n",
    "    \n",
    "print(lis)"
   ]
  },
  {
   "cell_type": "markdown",
   "id": "6756ce37",
   "metadata": {},
   "source": [
    "#### 实例040：逆序列表\n",
    "\n",
    "**题目：**将一个数组逆序输出，不能调用reverse()方法\n",
    "\n",
    "**程序分析：**依次交换位置"
   ]
  },
  {
   "cell_type": "code",
   "execution_count": 53,
   "id": "cb36d3cf",
   "metadata": {},
   "outputs": [
    {
     "name": "stdout",
     "output_type": "stream",
     "text": [
      "[100000, 10000, 1000, 100, 10, 1]\n"
     ]
    }
   ],
   "source": [
    "lis = [1, 10, 100, 1000, 10000, 100000]\n",
    "\n",
    "for i in range(int(len(lis) / 2)):\n",
    "    lis[i], lis[len(lis) - 1 - i] = lis[len(lis) - 1 - i], lis[i]\n",
    "\n",
    "print(lis)"
   ]
  },
  {
   "cell_type": "markdown",
   "id": "01a39d10",
   "metadata": {},
   "source": [
    "#### 实例044：矩阵相加\n",
    "\n",
    "**题目：**计算两个矩阵相加。\n",
    "\n",
    "**程序分析：**创建一个新的矩阵，使用 for 迭代并取出 X 和 Y 矩阵中对应位置的值，相加后放到新矩阵的对应位置中。"
   ]
  },
  {
   "cell_type": "code",
   "execution_count": 54,
   "id": "e289d753",
   "metadata": {},
   "outputs": [
    {
     "name": "stdout",
     "output_type": "stream",
     "text": [
      "[[17, 15, 4], [10, 12, 9], [11, 13, 18]]\n"
     ]
    }
   ],
   "source": [
    "mat_x = [\n",
    "    [12, 7, 3],\n",
    "    [4, 5, 6],\n",
    "    [7, 8, 9]\n",
    "]\n",
    " \n",
    "mat_y = [\n",
    "    [5, 8, 1],\n",
    "    [6, 7, 3],\n",
    "    [4, 5, 9]\n",
    "]\n",
    " \n",
    "res = [\n",
    "    [0, 0, 0],\n",
    "    [0, 0, 0],\n",
    "    [0, 0, 0]\n",
    "]\n",
    "\n",
    "for i in range(len(res)):\n",
    "    for j in range(len(res[0])):\n",
    "        res[i][j] = mat_x[i][j] + mat_y[i][j]\n",
    "        \n",
    "print(res)"
   ]
  },
  {
   "cell_type": "markdown",
   "id": "7a047c03",
   "metadata": {},
   "source": [
    "#### 实例045：求和\n",
    "\n",
    "**题目：**统计 1 到 100 之和。\n",
    "\n",
    "**程序分析：**无"
   ]
  },
  {
   "cell_type": "code",
   "execution_count": 55,
   "id": "229dd8ee",
   "metadata": {},
   "outputs": [
    {
     "name": "stdout",
     "output_type": "stream",
     "text": [
      "5050\n"
     ]
    }
   ],
   "source": [
    "res = 0\n",
    "for i in range(1, 101):\n",
    "    res += i\n",
    "    \n",
    "print(res)"
   ]
  },
  {
   "cell_type": "markdown",
   "id": "01796942",
   "metadata": {},
   "source": [
    "#### 实例046：打破循环\n",
    "\n",
    "**题目：**求输入数字的平方，如果平方运算后小于 50 则退出。\n",
    "\n",
    "**程序分析：**无"
   ]
  },
  {
   "cell_type": "code",
   "execution_count": 57,
   "id": "a14241bd",
   "metadata": {},
   "outputs": [
    {
     "name": "stdout",
     "output_type": "stream",
     "text": [
      "其平方为：225.0\n",
      "其平方为：992016.0\n",
      "其平方为：16.0\n",
      "平方小于50，退出\n"
     ]
    }
   ],
   "source": [
    "while True:\n",
    "    try:\n",
    "        n = float(input('输入一个数字：'))\n",
    "    except:\n",
    "        print('输入错误')\n",
    "        continue\n",
    "    dn = n ** 2\n",
    "    print(f\"其平方为：{dn}\")\n",
    "\n",
    "    if dn < 50:\n",
    "        print('平方小于50，退出')\n",
    "        break"
   ]
  },
  {
   "cell_type": "markdown",
   "id": "03550f0c",
   "metadata": {},
   "source": [
    "#### 实例047：函数交换变量\n",
    "\n",
    "**题目：**两个变量值用函数互换。\n",
    "\n",
    "**程序分析：**无"
   ]
  },
  {
   "cell_type": "code",
   "execution_count": 58,
   "id": "d4408b0a",
   "metadata": {},
   "outputs": [
    {
     "name": "stdout",
     "output_type": "stream",
     "text": [
      "10 0\n"
     ]
    }
   ],
   "source": [
    "def exc(a, b):\n",
    "    return (b, a)\n",
    "\n",
    "a = 0\n",
    "b = 10\n",
    "a, b = exc(a, b)\n",
    "print(a, b)"
   ]
  },
  {
   "cell_type": "markdown",
   "id": "bd6d4411",
   "metadata": {},
   "source": [
    "#### 实例048：数字比大小\n",
    "\n",
    "**题目：**数字比较。\n",
    "\n",
    "**程序分析：**无"
   ]
  },
  {
   "cell_type": "code",
   "execution_count": 60,
   "id": "4faa037f",
   "metadata": {},
   "outputs": [
    {
     "name": "stdout",
     "output_type": "stream",
     "text": [
      "7 > 6\n"
     ]
    }
   ],
   "source": [
    "a = int(input('a = '))\n",
    "b = int(input('b = '))\n",
    "if a < b:\n",
    "    print(f'{a} < {b}')\n",
    "elif a > b:\n",
    "    print(f'{a} > {b}')\n",
    "else:\n",
    "    print(f'{a} = {b}')"
   ]
  },
  {
   "cell_type": "markdown",
   "id": "8c680ce6",
   "metadata": {},
   "source": [
    "#### 实例049：lambda\n",
    "\n",
    "**题目：**使用lambda来创建2个匿名函数, 实现输入两个数字，分别返回其最大值和最小值的功能\n",
    "\n",
    "**程序分析：**无"
   ]
  },
  {
   "cell_type": "code",
   "execution_count": null,
   "id": "f7680d8d",
   "metadata": {},
   "outputs": [],
   "source": [
    "func_max = lambda x, y: x * (x >= y) + y * (y > x)\n",
    "func_min = lambda x, y: x * (x <= y) + y * (y < x)\n",
    "\n",
    "a = int(input('第一个数:'))\n",
    "b = int(input('第二个数:'))\n",
    "\n",
    "print(func_max(a, b))\n",
    "print(func_min(a, b))"
   ]
  },
  {
   "cell_type": "markdown",
   "id": "f5394eaf",
   "metadata": {},
   "source": [
    "#### 实例050：随机数\n",
    "\n",
    "**题目：**在 0~100 之间输出一个随机数，不一定是整数\n",
    "\n",
    "**程序分析：**使用 random 模块。"
   ]
  },
  {
   "cell_type": "code",
   "execution_count": null,
   "id": "6911aa4f",
   "metadata": {},
   "outputs": [
    {
     "name": "stdout",
     "output_type": "stream",
     "text": [
      "17.39525144947902\n"
     ]
    }
   ],
   "source": [
    "import random\n",
    "\n",
    "print(random.uniform(10, 20))"
   ]
  },
  {
   "cell_type": "markdown",
   "id": "2a82faed",
   "metadata": {},
   "source": [
    "#### 实例060：字符串长度\n",
    "\n",
    "**题目：**计算字符串长度。　　\n",
    "\n",
    "**程序分析：**无。"
   ]
  },
  {
   "cell_type": "code",
   "execution_count": 64,
   "id": "2a0a0df8",
   "metadata": {},
   "outputs": [
    {
     "name": "stdout",
     "output_type": "stream",
     "text": [
      "9\n"
     ]
    }
   ],
   "source": [
    "s = 'hi, there'\n",
    "print(len(s))"
   ]
  },
  {
   "cell_type": "markdown",
   "id": "cee99684",
   "metadata": {},
   "source": [
    "#### 实例062：查找字符串\n",
    "\n",
    "**题目：**查找s2和s3的首字母在s1里首次出现的索引值, 使用 find()\n",
    "\n",
    "**程序分析：**无。"
   ]
  },
  {
   "cell_type": "code",
   "execution_count": 65,
   "id": "4fa294dc",
   "metadata": {},
   "outputs": [
    {
     "name": "stdout",
     "output_type": "stream",
     "text": [
      "1\n",
      "4\n"
     ]
    }
   ],
   "source": [
    "s1 = 'aabbxuebixuebi'\n",
    "s2 = 'ab'\n",
    "s3 = 'xue'\n",
    "\n",
    "print(s1.find(s2))\n",
    "print(s1.find(s3))"
   ]
  },
  {
   "cell_type": "markdown",
   "id": "7788c972",
   "metadata": {},
   "source": [
    "#### 实例067：交换位置\n",
    "\n",
    "**题目：**输入数组，最大的与第一个元素交换，最小的与最后一个元素交换，输出数组。\n",
    "\n",
    "**程序分析：**无"
   ]
  },
  {
   "cell_type": "code",
   "execution_count": null,
   "id": "377429c5",
   "metadata": {},
   "outputs": [],
   "source": [
    "lis = [3, 2, 5, 7, 8, 1, 5]\n",
    "\n",
    "lis[-1], lis[lis.index(min(lis))] = lis[lis.index(min(lis))], lis[-1]\n",
    "\n",
    "m = lis[0]\n",
    "ind = lis.index(max(lis))\n",
    "lis[0] = lis[ind]\n",
    "lis[ind] = m\n",
    "\n",
    "print(lis)"
   ]
  },
  {
   "cell_type": "markdown",
   "id": "e5e48c3f",
   "metadata": {},
   "source": [
    "#### 实例069：报数\n",
    "\n",
    "**题目：**有n个人围成一圈，顺序排号。从第一个人开始报数（从1到3报数），凡报到3的人退出圈子，问最后留下的是原来第几号的那位。\n",
    "\n",
    "**程序分析：**无。"
   ]
  },
  {
   "cell_type": "code",
   "execution_count": null,
   "id": "4b2dc9a2",
   "metadata": {},
   "outputs": [],
   "source": [
    "nmax = 50\n",
    "n = int(input('请输入总人数:'))\n",
    "num = []\n",
    "for i in range(n):\n",
    "    num.append(i + 1)\n",
    "\n",
    "i = 0\n",
    "k = 0\n",
    "m = 0\n",
    "\n",
    "while m < n - 1:\n",
    "    if num[i] != 0 : k += 1\n",
    "    if k == 3:\n",
    "        num[i] = 0\n",
    "        k = 0\n",
    "        m += 1\n",
    "    i += 1\n",
    "    if i == n : i = 0\n",
    "\n",
    "i = 0\n",
    "while num[i] == 0: i += 1\n",
    "print(num[i])"
   ]
  },
  {
   "cell_type": "markdown",
   "id": "60c3a17f",
   "metadata": {},
   "source": [
    "#### 实例074：列表连接\n",
    "\n",
    "**题目：**列表连接。\n",
    "\n",
    "**程序分析：**连接可以使用 + 号或 extend() 方法。"
   ]
  },
  {
   "cell_type": "code",
   "execution_count": 66,
   "id": "d67c8ca7",
   "metadata": {},
   "outputs": [
    {
     "name": "stdout",
     "output_type": "stream",
     "text": [
      "[2, 6, 8, 7, 0, 4]\n"
     ]
    }
   ],
   "source": [
    "a = [2, 6, 8]\n",
    "b = [7, 0, 4]\n",
    "\n",
    "a.extend(b)\n",
    "print(a)"
   ]
  },
  {
   "cell_type": "markdown",
   "id": "360171a3",
   "metadata": {},
   "source": [
    "#### 实例076：做函数\n",
    "\n",
    "**题目：**编写一个函数，输入n为偶数时，调用函数求1/2+1/4+...+1/n, 当输入n为奇数时，调用函数1/1+1/3+...+1/n。结果保留6位小数\n",
    "\n",
    "**程序分析：**无。"
   ]
  },
  {
   "cell_type": "code",
   "execution_count": 71,
   "id": "cfb3bdda",
   "metadata": {},
   "outputs": [
    {
     "name": "stdout",
     "output_type": "stream",
     "text": [
      "2.885097\n"
     ]
    }
   ],
   "source": [
    "def peven(n):\n",
    "    i = 0\n",
    "    s = 0.0\n",
    "    for i in range(2, n + 1, 2):\n",
    "        s += 1.0 / i\n",
    "    return s\n",
    " \n",
    "\n",
    "def podd(n):\n",
    "    s = 0.0\n",
    "    for i in range(1, n + 1, 2):\n",
    "        s += 1.0 / i\n",
    "    return s\n",
    " \n",
    "\n",
    "def dcall(fp,n):\n",
    "    s = fp(n)\n",
    "    return s\n",
    " \n",
    "\n",
    "n = int(input('input a number: '))\n",
    "if n % 2 == 0:\n",
    "    sum = dcall(peven, n)\n",
    "else:\n",
    "    sum = dcall(podd, n)\n",
    "\n",
    "print(round(sum, 6))"
   ]
  },
  {
   "cell_type": "markdown",
   "id": "80aaf973",
   "metadata": {},
   "source": [
    "#### 实例077：遍历列表\n",
    "\n",
    "**题目：**用索引的方式循环输出列表\n",
    "\n",
    "**程序分析：**无。"
   ]
  },
  {
   "cell_type": "code",
   "execution_count": 72,
   "id": "0f1865aa",
   "metadata": {},
   "outputs": [
    {
     "name": "stdout",
     "output_type": "stream",
     "text": [
      "moyu\n",
      "niupi\n",
      "xuecaibichi\n",
      "shengfaji\n",
      "42\n"
     ]
    }
   ],
   "source": [
    "lis = ['moyu','niupi','xuecaibichi','shengfaji','42']\n",
    "for i in range(len(lis)):\n",
    "    print(lis[i])"
   ]
  },
  {
   "cell_type": "markdown",
   "id": "32e32857",
   "metadata": {},
   "source": [
    "#### 实例078：字典\n",
    "\n",
    "**题目：**找到年龄最大的人，并输出。\n",
    "\n",
    "**程序分析：**无。"
   ]
  },
  {
   "cell_type": "code",
   "execution_count": 3,
   "id": "765d968c",
   "metadata": {},
   "outputs": [
    {
     "name": "stdout",
     "output_type": "stream",
     "text": [
      "年龄最大的是 wang, 50岁\n"
     ]
    }
   ],
   "source": [
    "person = {\n",
    "    \"li\": 18,\n",
    "    \"wang\": 50,\n",
    "    \"zhang\": 20,\n",
    "    \"sun\": 22\n",
    "}\n",
    "\n",
    "max_age = 'li'\n",
    "for key in person.keys():\n",
    "    if person[max_age] < person[key]:\n",
    "        max_age = key\n",
    "\n",
    "print (f\"年龄最大的是 {max_age}, {person[max_age]}岁\")"
   ]
  },
  {
   "cell_type": "markdown",
   "id": "93b8b54d",
   "metadata": {},
   "source": [
    "#### 实例081：求未知数\n",
    "\n",
    "**题目：**809\\*??=800\\*??+9\\*?? 其中??代表的两位数, 809\\*??为四位数，8\\*??的结果为两位数，9\\*??的结果为3位数。求??代表的两位数，及809\\*??后的结果。\n",
    "\n",
    "**程序分析：**无。"
   ]
  },
  {
   "cell_type": "code",
   "execution_count": null,
   "id": "fffc5500",
   "metadata": {},
   "outputs": [
    {
     "name": "stdout",
     "output_type": "stream",
     "text": [
      "9708 = 800 * 12 + 9 * 12\n",
      "12\n"
     ]
    }
   ],
   "source": [
    "a = 809\n",
    "for i in range(10,100):\n",
    "    b = i * a\n",
    "    if b >= 1000 and b <= 10000 and 8 * i < 100 and 9 * i >= 100:\n",
    "        print(f\"{b} = 800 * {i} + 9 * {i}\")\n",
    "\n",
    "for i in range(10,100):\n",
    "    if 8 * i > 99 or 9 * i < 100:\n",
    "        continue\n",
    "    if 809 * i == 800 * i + 9 * i:\n",
    "        print(i)\n",
    "        break"
   ]
  },
  {
   "cell_type": "markdown",
   "id": "ca14e741",
   "metadata": {},
   "source": [
    "#### 实例083：制作奇数\n",
    "\n",
    "**题目：**求0—7所能组成的奇数个数。\n",
    "\n",
    "**程序分析：**\n",
    "\n",
    "组成1位数是4个。1,3,5,7结尾\n",
    "\n",
    "组成2位数是7*4个。第一位不能为0\n",
    "\n",
    "组成3位数是7*8*4个。中间随意\n",
    "\n",
    "组成4位数是7*8*8*4个。"
   ]
  },
  {
   "cell_type": "code",
   "execution_count": 78,
   "id": "a1acba07",
   "metadata": {},
   "outputs": [
    {
     "name": "stdout",
     "output_type": "stream",
     "text": [
      "4\n",
      "32\n",
      "256\n",
      "2048\n",
      "16384\n",
      "131072\n",
      "1048576\n",
      "sum = 8388608\n"
     ]
    }
   ],
   "source": [
    "sum = 4\n",
    "s = 4\n",
    "for j in range(2,9):\n",
    "    print (sum)\n",
    "    if j <= 2:\n",
    "        s *= 7\n",
    "    else:\n",
    "        s *= 8\n",
    "    sum += s\n",
    "\n",
    "print(f\"sum = {sum}\")"
   ]
  },
  {
   "cell_type": "markdown",
   "id": "8821f3c6",
   "metadata": {},
   "source": [
    "#### 实例085：整除\n",
    "\n",
    "**题目：**输入一个奇数，然后判断最少几个 9 除于该数的结果为整数。\n",
    "\n",
    "**程序分析：**999999 / 13 = 76923。"
   ]
  },
  {
   "cell_type": "code",
   "execution_count": 86,
   "id": "ad43dba1",
   "metadata": {},
   "outputs": [
    {
     "name": "stdout",
     "output_type": "stream",
     "text": [
      "21个 9 可以被 43 整除： 999999999999999999999\n",
      "999999999999999999999 / 43 = 2.325581395348837e+19\n"
     ]
    }
   ],
   "source": [
    "zi = int(input('输入一个数字:'))\n",
    "n1 = 1\n",
    "c9 = 1\n",
    "m9 = 9\n",
    "sum = 9\n",
    "\n",
    "try:\n",
    "    if zi % 2 == 0 or zi % 5 == 0:  # 先过滤掉偶数和以0或者5结尾的数\n",
    "        raise ValueError(f\"{zi}不能被尾数为9的数字整除\")\n",
    "\n",
    "    while n1 != 0:\n",
    "        if sum % zi == 0:\n",
    "            n1 = 0\n",
    "        else:\n",
    "            m9 *= 10\n",
    "            sum += m9\n",
    "            c9 += 1\n",
    "except Exception as e:\n",
    "    print(e)\n",
    "else:\n",
    "    print (f\"{c9}个 9 可以被 {zi} 整除： {sum}\")\n",
    "    r = sum / zi\n",
    "    print (f\"{sum} / {zi} = {r}\")"
   ]
  },
  {
   "cell_type": "markdown",
   "id": "31f72818",
   "metadata": {},
   "source": [
    "#### 实例087：访问类成员\n",
    "\n",
    "**题目：**回答结果（结构体变量传递）。\n",
    "\n",
    "**程序分析：**无。"
   ]
  },
  {
   "cell_type": "code",
   "execution_count": 88,
   "id": "6933a797",
   "metadata": {},
   "outputs": [
    {
     "name": "stdout",
     "output_type": "stream",
     "text": [
      "20 c\n"
     ]
    }
   ],
   "source": [
    "class Student:\n",
    "    x = 0\n",
    "    c = 0\n",
    "\n",
    "def f(stu):\n",
    "    stu.x = 20\n",
    "    stu.c = 'c'\n",
    "\n",
    "student = Student()\n",
    "student.x = 3\n",
    "student.c = 'a'\n",
    "f(student)\n",
    "print(student.x, student.c)"
   ]
  },
  {
   "cell_type": "markdown",
   "id": "9fd65545",
   "metadata": {},
   "source": [
    "#### 实例089：解码\n",
    "\n",
    "**题目：**某个公司采用公用电话传递数据，数据是四位的整数，在传递过程中是加密的，加密规则如下：每位数字都加上5,然后用和除以10的余数代替该数字，再将第一位和第四位交换，第二位和第三位交换。\n",
    "\n",
    "**程序分析：**无。"
   ]
  },
  {
   "cell_type": "code",
   "execution_count": 91,
   "id": "499a4383",
   "metadata": {},
   "outputs": [
    {
     "name": "stdout",
     "output_type": "stream",
     "text": [
      "0773\n"
     ]
    }
   ],
   "source": [
    "n = input(\"请输入数据编码：\")\n",
    "a = []\n",
    "for i in range(4):\n",
    "    a.append((int(n[i]) + 5) % 10)\n",
    "\n",
    "a[0], a[3] = a[3], a[0]\n",
    "a[1], a[2] = a[2], a[1]\n",
    "print (\"\".join(str(s) for s in a))"
   ]
  },
  {
   "cell_type": "markdown",
   "id": "d28b655f",
   "metadata": {},
   "source": [
    "#### 实例096：计算复读次数\n",
    "\n",
    "**题目：**计算字符串中子串出现的次数。使用count()方法，或者手动解决\n",
    "\n",
    "**程序分析：**无。"
   ]
  },
  {
   "cell_type": "code",
   "execution_count": 93,
   "id": "57bace32",
   "metadata": {},
   "outputs": [
    {
     "name": "stdout",
     "output_type": "stream",
     "text": [
      "7\n"
     ]
    }
   ],
   "source": [
    "s1 = 'xuebixuebixuebixuebixuebixuebixuebixue'\n",
    "s2 = 'xuebi'\n",
    "\n",
    "print(s1.count(s2))"
   ]
  },
  {
   "cell_type": "markdown",
   "id": "405e4de2",
   "metadata": {},
   "source": [
    "#### 实例097：写入文件\n",
    "\n",
    "**题目：**从键盘输入一些字符，逐个把它们写到文件test_1.txt里，直到输入一个 # 为止。\n",
    "\n",
    "**程序分析：**无。"
   ]
  },
  {
   "cell_type": "code",
   "execution_count": null,
   "id": "e3136bad",
   "metadata": {},
   "outputs": [],
   "source": [
    "filename = input('输入文件名:\\n')\n",
    "\n",
    "with open(filename, \"w\") as fp:\n",
    "    ch = input('输入字符串:\\n')\n",
    "    while ch != '#':\n",
    "        fp.write(ch)\n",
    "        ch = input('')"
   ]
  },
  {
   "cell_type": "markdown",
   "id": "a8759086",
   "metadata": {},
   "source": [
    "#### 实例098：磁盘写入II\n",
    "\n",
    "**题目：**从键盘输入一个字符串，将小写字母全部转换成大写字母，然后输出到一个磁盘文件test_2.txt中保存。\n",
    "\n",
    "**程序分析：**无。"
   ]
  },
  {
   "cell_type": "code",
   "execution_count": null,
   "id": "d871a4c9",
   "metadata": {},
   "outputs": [],
   "source": [
    "with open('test_2.txt','w') as f1:\n",
    "    string = input('please input a string:\\n')\n",
    "    string = string.upper()\n",
    "    f1.write(string)"
   ]
  },
  {
   "cell_type": "markdown",
   "id": "b6c78c83",
   "metadata": {},
   "source": [
    "#### 实例099：磁盘读写\n",
    "\n",
    "**题目：**文件夹99中有两个磁盘文件A.txt和B.txt,各存放一行字母,要求把这两个文件中的信息合并(按字母顺序排列), 输出到一个新文件C.txt中。\n",
    "\n",
    "**程序分析：**无。"
   ]
  },
  {
   "cell_type": "code",
   "execution_count": null,
   "id": "b20b7fd1",
   "metadata": {},
   "outputs": [],
   "source": [
    "with open('A.txt') as f1:\n",
    "    a = f1.read()\n",
    "\n",
    "with open('B.txt') as f2:\n",
    "    b = f2.read()\n",
    "\n",
    "with open('C.txt','w') as f3:\n",
    "    l = list(a + b)\n",
    "    l.sort()\n",
    "    s = ''\n",
    "    s = s.join(l)\n",
    "    f3.write(s)"
   ]
  }
 ],
 "metadata": {
  "kernelspec": {
   "display_name": "Python 3",
   "language": "python",
   "name": "python3"
  },
  "language_info": {
   "codemirror_mode": {
    "name": "ipython",
    "version": 3
   },
   "file_extension": ".py",
   "mimetype": "text/x-python",
   "name": "python",
   "nbconvert_exporter": "python",
   "pygments_lexer": "ipython3",
   "version": "3.13.7"
  }
 },
 "nbformat": 4,
 "nbformat_minor": 5
}
