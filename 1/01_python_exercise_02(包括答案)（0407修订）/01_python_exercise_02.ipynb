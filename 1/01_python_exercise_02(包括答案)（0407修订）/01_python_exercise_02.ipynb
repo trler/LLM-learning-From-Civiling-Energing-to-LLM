{
 "cells": [
  {
   "cell_type": "markdown",
   "id": "1c87c5ad",
   "metadata": {},
   "source": [
    "#### 实例001：数字组合\n",
    "**题目：**有四个数字：1、2、3、4，能组成多少个互不相同且无重复数字的三位数？各是多少？#可以优化"
   ]
  },
  {
   "cell_type": "code",
   "execution_count": 38,
   "id": "3b393b12",
   "metadata": {},
   "outputs": [
    {
     "name": "stdout",
     "output_type": "stream",
     "text": [
      "123\n",
      "124\n",
      "132\n",
      "134\n",
      "142\n",
      "143\n",
      "213\n",
      "214\n",
      "231\n",
      "234\n",
      "241\n",
      "243\n",
      "312\n",
      "314\n",
      "321\n",
      "324\n",
      "341\n",
      "342\n",
      "412\n",
      "413\n",
      "421\n",
      "423\n",
      "431\n",
      "432\n",
      "24\n",
      "123\n",
      "124\n",
      "132\n",
      "134\n",
      "142\n",
      "143\n",
      "213\n",
      "214\n",
      "231\n",
      "234\n",
      "241\n",
      "243\n",
      "312\n",
      "314\n",
      "321\n",
      "324\n",
      "341\n",
      "342\n",
      "412\n",
      "413\n",
      "421\n",
      "423\n",
      "431\n",
      "432\n",
      "24\n"
     ]
    }
   ],
   "source": [
    "lst = [1, 2, 3, 4]\n",
    "count = 0\n",
    "for i in lst:\n",
    "    lst2 = [1, 2, 3, 4]\n",
    "    lst2.remove(i)\n",
    "    for e in lst2:\n",
    "        lst3 = [1,2,3,4]\n",
    "        lst3.remove(i)\n",
    "        lst3.remove(e)\n",
    "        for y in lst3:\n",
    "            print(i*100 + e*10 + y * 1)\n",
    "            count += 1\n",
    "print(count)\n",
    "\n",
    "\n",
    "count = 0\n",
    "for i in range(1,5):\n",
    "    for e in range(1,5):\n",
    "        for y in range(1,5):\n",
    "            if (i != e and i != y and y != e):\n",
    "                print(i * 100 +e * 10 + y)\n",
    "                count += 1\n",
    "print(count)\n",
    "\n",
    "\n",
    "\n"
   ]
  },
  {
   "cell_type": "code",
   "execution_count": null,
   "id": "6c808229",
   "metadata": {},
   "outputs": [],
   "source": []
  },
  {
   "cell_type": "code",
   "execution_count": null,
   "id": "8f61aca2",
   "metadata": {},
   "outputs": [],
   "source": [
    "## ?用来进行提示与补充"
   ]
  },
  {
   "cell_type": "markdown",
   "id": "953a569f",
   "metadata": {},
   "source": [
    "#### 实例002：“个税计算”\n",
    "**题目：**企业发放的奖金根据利润提成。利润(I)低于或等于10万元时，奖金可提10%；利润高于10万元，低于20万元时，低于10万元的部分按10%提成，高于10万元的部分，可提成7.5%；20万到40万之间时，高于20万元的部分，可提成5%；40万到60万之间时高于40万元的部分，可提成3%；60万到100万之间时，高于60万元的部分，可提成1.5%，高于100万元时，超过100万元的部分按1%提成，从键盘输入当月利润I，求应发放奖金总数？"
   ]
  },
  {
   "cell_type": "code",
   "execution_count": 46,
   "id": "a2990e73",
   "metadata": {},
   "outputs": [
    {
     "name": "stdout",
     "output_type": "stream",
     "text": [
      "利润为1.075万元\n",
      "2.075\n"
     ]
    }
   ],
   "source": [
    "profit = int(input('请输入当月利润: '))\n",
    "bonus = 0\n",
    "if profit <= 10:\n",
    "    bonus = 0.1 * profit\n",
    "elif profit > 10 and profit <= 20:\n",
    "    bonus = 1 + 0.075* (profit - 10)\n",
    "elif profit > 20 and profit <= 40:\n",
    "    bonus = 1 + 0.075 * 10 + 0.05 * (profit - 20)\n",
    "elif profit > 40 and profit <= 60:\n",
    "    bonus = 1 + 0.75 + 1 + 0.03 * (profit - 40)\n",
    "elif profit > 60 and profit <= 100:\n",
    "    bonus = 1 + 0.75 + 1 + 0.6 + 0.015 * (profit - 60)\n",
    "else:\n",
    "    bonus = 1 + 0.75 + 1 + 0.6 + 0.6 + 0.01 * (profit - 100)\n",
    "print(f\"利润为{bonus}万元\")\n",
    "\n",
    "threshold = [10, 10, 20, 20, 40]\n",
    "rate = [0.1, 0.075, 0.05, 0.03, 0.015, 0.10]\n",
    "\n",
    "for i in range(len(threshold)):\n",
    "    if profit <= threshold[i]:\n",
    "        profit = 0\n",
    "        bonus += threshold[i] * profit\n",
    "    else:\n",
    "        profit -= threshold[i]\n",
    "        bonus += threshold[i] * rate[i]\n",
    "bonus += rate[-1] * profit\n",
    "print(bonus)\n"
   ]
  },
  {
   "cell_type": "markdown",
   "id": "02bbfc4b",
   "metadata": {},
   "source": [
    "#### 实例003：完全平方数\n",
    "**题目：**一个整数，它加上100后是一个完全平方数，再加上168又是一个完全平方数，请问该数是多少？"
   ]
  },
  {
   "cell_type": "code",
   "execution_count": 56,
   "id": "e8cd10cc",
   "metadata": {},
   "outputs": [
    {
     "name": "stdout",
     "output_type": "stream",
     "text": [
      "84\n",
      "-99\n",
      "21\n",
      "261\n",
      "1581\n"
     ]
    }
   ],
   "source": [
    "# for i in range(0,10000):\n",
    "#     for x in range(10000):\n",
    "#         if (x ** 2 - 268) == (i ** 2 - 100):\n",
    "#             print(x ** 2-268)\n",
    "\n",
    "\n",
    "n = 0\n",
    "while (n+1) ** 2 - n ** 2 <= 168 :\n",
    "    n += 1\n",
    "print(n)\n",
    "\n",
    "for i in range((n+1) ** 2):\n",
    "    if i ** 0.5 == int(i ** 0.5) and (i + 168) ** 0.5 == int((i + 168) ** 0.5):\n",
    "        print(i-100)\n"
   ]
  },
  {
   "cell_type": "markdown",
   "id": "13272491",
   "metadata": {},
   "source": [
    "#### 实例004：这天第几天\n",
    "\n",
    "**题目：**输入某年某月某日，比如20250306，判断这一天是这一年的第几天？"
   ]
  },
  {
   "cell_type": "code",
   "execution_count": 58,
   "id": "c16498bd",
   "metadata": {},
   "outputs": [
    {
     "name": "stdout",
     "output_type": "stream",
     "text": [
      "今天是今天的第83天\n"
     ]
    }
   ],
   "source": [
    "date = int(input(\"请输入年月日(yyyymmdd): \"))\n",
    "year = date // 10000\n",
    "date_m_d = date % 10000\n",
    "month_num = date_m_d // 100\n",
    "day_num = date_m_d % 100\n",
    "\n",
    "# 月份给的天数\n",
    "if year % 4 == 0 and year % 100 != 0 or year % 400 == 0:   \n",
    "    lab = 29\n",
    "else:\n",
    "    lab = 28\n",
    "# 月份列表\n",
    "month_day_lst = [31, lab, 31, 30, 31, 30, 31, 31, 30, 31, 30, 31]\n",
    "\n",
    "month_day_count = 0\n",
    "for i in range(month_num-1):\n",
    "    month_day_count += month_day_lst[i]\n",
    "\n",
    "total_day = month_day_count + day_num\n",
    "\n",
    "print(f\"今天是今天的第{total_day}天\")"
   ]
  },
  {
   "cell_type": "markdown",
   "id": "422f3c62",
   "metadata": {},
   "source": [
    "#### 实例005：三数排序\n",
    "\n",
    "**题目：**输入三个整数x,y,z，请把这三个数由小到大输出。"
   ]
  },
  {
   "cell_type": "code",
   "execution_count": null,
   "id": "24326a55",
   "metadata": {},
   "outputs": [
    {
     "name": "stdout",
     "output_type": "stream",
     "text": [
      "[123, 321, 213]\n",
      "[123, 213, 321]\n"
     ]
    }
   ],
   "source": [
    "# x = int(input(\"请输入x: \"))\n",
    "# y = int(input(\"请输入y: \"))\n",
    "# z = int(input(\"请输入z: \"))\n",
    "\n",
    "# tmp_max = x\n",
    "# tmp_min = x\n",
    "# tmp_mid = 0\n",
    "\n",
    "# if tmp_max < y:\n",
    "#     tmp_max = y\n",
    "#     if tmp_max < z:\n",
    "#         tmp_max = z\n",
    "#         if x < y:\n",
    "#             tmp_min = x\n",
    "#             tmp_mid = y\n",
    "#         else:\n",
    "#             tmp_min = y\n",
    "#             tmp_mid = x\n",
    "#     else:\n",
    "#         if x < z:\n",
    "#             tmp_min = x\n",
    "#             tmp_mid = z\n",
    "#         else:\n",
    "#             tmp_min = z\n",
    "#             tmp_mid = x\n",
    "# else:   \n",
    "#     if tmp_max < z:\n",
    "#         tmp_max = z\n",
    "#     else:\n",
    "#         if y < z:\n",
    "#             tmp_min = y\n",
    "#             tmp_mid = z\n",
    "#         else:\n",
    "#             tmp_min = z\n",
    "#             tmp_mid = y \n",
    "\n",
    "# print(f\"三个数从小到大输出为: {tmp_min} {tmp_mid} {tmp_max}\")\n",
    "\n",
    "\n",
    "lst = []\n",
    "for i in range(3):\n",
    "    tmp = int(input(f\"输入第{i+1}个数: \"))\n",
    "    lst.append(tmp)\n",
    "print(lst)\n",
    "\n",
    "for i in range(len(lst)-1):\n",
    "    for j in range(0, len(lst)-i):\n",
    "        if lst[j] > lst[j+1]:\n",
    "            lst[j], lst[j+1] = lst[j+1], lst[j]\n",
    "print(lst)"
   ]
  },
  {
   "cell_type": "markdown",
   "id": "dbae869f",
   "metadata": {},
   "source": [
    "#### 实例006：斐波那契数列\n",
    "\n",
    "**题目：**斐波那契数列。"
   ]
  },
  {
   "cell_type": "code",
   "execution_count": 49,
   "id": "57f56d8a",
   "metadata": {},
   "outputs": [
    {
     "name": "stdout",
     "output_type": "stream",
     "text": [
      "8\n"
     ]
    }
   ],
   "source": [
    "# 递归实现\n",
    "def fib(n):\n",
    "    if n <= 2:\n",
    "        return 1\n",
    "    else:\n",
    "        return fib(n-2) + fib(n-1)\n",
    "\n",
    "print(fib(int(input(\"请输入一个整数：\"))))"
   ]
  },
  {
   "cell_type": "markdown",
   "id": "f0e2eef4",
   "metadata": {},
   "source": [
    "#### 实例007：copy\n",
    "\n",
    "**题目：**将一个列表的数据复制到另一个列表中。"
   ]
  },
  {
   "cell_type": "code",
   "execution_count": 2,
   "id": "67e02949",
   "metadata": {},
   "outputs": [
    {
     "name": "stdout",
     "output_type": "stream",
     "text": [
      "[1, 2, 3, 4, ['a', 'b']]\n"
     ]
    }
   ],
   "source": [
    "import copy\n",
    "\n",
    "a = [1, 2, 3, 4, ['a', 'b']]\n",
    "b = copy.deepcopy(a)\n",
    "print(b)\n",
    "\n",
    "\n",
    "\n",
    "\n"
   ]
  },
  {
   "cell_type": "markdown",
   "id": "e8bca581",
   "metadata": {},
   "source": [
    "#### 实例008:九九乘法表\n",
    "\n",
    "**题目：**输出 9*9 乘法口诀表。"
   ]
  },
  {
   "cell_type": "code",
   "execution_count": 8,
   "id": "cdba9676",
   "metadata": {},
   "outputs": [
    {
     "name": "stdout",
     "output_type": "stream",
     "text": [
      "\n",
      "\n",
      "1*1=1\t \n",
      "\n",
      "1*2=2\t 2*2=4\t \n",
      "\n",
      "1*3=3\t 2*3=6\t 3*3=9\t \n",
      "\n",
      "1*4=4\t 2*4=8\t 3*4=12\t 4*4=16\t \n",
      "\n",
      "1*5=5\t 2*5=10\t 3*5=15\t 4*5=20\t 5*5=25\t \n",
      "\n",
      "1*6=6\t 2*6=12\t 3*6=18\t 4*6=24\t 5*6=30\t 6*6=36\t \n",
      "\n",
      "1*7=7\t 2*7=14\t 3*7=21\t 4*7=28\t 5*7=35\t 6*7=42\t 7*7=49\t \n",
      "\n",
      "1*8=8\t 2*8=16\t 3*8=24\t 4*8=32\t 5*8=40\t 6*8=48\t 7*8=56\t 8*8=64\t \n",
      "\n",
      "1*9=9\t 2*9=18\t 3*9=27\t 4*9=36\t 5*9=45\t 6*9=54\t 7*9=63\t 8*9=72\t 9*9=81\t \n",
      "\n"
     ]
    }
   ],
   "source": [
    "n = int(input(\"请输入乘法口诀表的大小(默认为9,且无法小于0):\"))\n",
    "for x in range(0,n+1):\n",
    "    for y in range(1,x+1):\n",
    "        print(f\"{y}*{x}={x*y}\\t\",end=\" \")\n",
    "    print(f\"\\n\")\n",
    "\n",
    "\n",
    "\n"
   ]
  },
  {
   "cell_type": "markdown",
   "id": "cc2cdf74",
   "metadata": {},
   "source": [
    "#### 实例009：暂停一秒输出\n",
    "\n",
    "**题目：**暂停一秒输出。使用 time 模块的 sleep() 函数"
   ]
  },
  {
   "cell_type": "code",
   "execution_count": null,
   "id": "a8cfccd9",
   "metadata": {},
   "outputs": [],
   "source": [
    "import time\n",
    "time.sleep(1)"
   ]
  },
  {
   "cell_type": "markdown",
   "id": "d8189a61",
   "metadata": {},
   "source": [
    "#### 实例013：所有水仙花数\n",
    "\n",
    "**题目：**打印出所有的\"水仙花数\"，所谓\"水仙花数\"是指一个三位数，其各位数字立方和等于该数本身。例如：153是一个\"水仙花数\"，因为153=1的三次方＋5的三次方＋3的三次方。"
   ]
  },
  {
   "cell_type": "code",
   "execution_count": 4,
   "id": "7e8ae456",
   "metadata": {},
   "outputs": [
    {
     "name": "stdout",
     "output_type": "stream",
     "text": [
      "1\n",
      "153\n",
      "370\n",
      "371\n",
      "407\n"
     ]
    }
   ],
   "source": [
    "for i in range(1, 1000):\n",
    "    if i == ((i % 10) ** 3 + (i // 10 % 10) ** 3 + ( i // 100) ** 3):\n",
    "        print(i)\n"
   ]
  },
  {
   "cell_type": "markdown",
   "id": "b9ae7038",
   "metadata": {},
   "source": [
    "#### 实例015：分数归档\n",
    "\n",
    "**题目：**利用条件运算符的嵌套来完成此题：学习成绩>=90分的同学用A表示，60-89分之间的用B表示，60分以下的用C表示。"
   ]
  },
  {
   "cell_type": "code",
   "execution_count": 8,
   "id": "94087dd4",
   "metadata": {},
   "outputs": [
    {
     "name": "stdout",
     "output_type": "stream",
     "text": [
      "你的等级为B\n"
     ]
    }
   ],
   "source": [
    "points = int(input('输入分数：'))\n",
    "if points >= 90:\n",
    "    print(\"你的等级为A\")\n",
    "else:\n",
    "    if points >= 60:\n",
    "        print(\"你的等级为B\")\n",
    "    else:\n",
    "        print(\"你的等级为C\")"
   ]
  },
  {
   "cell_type": "markdown",
   "id": "b0abb8b6",
   "metadata": {},
   "source": [
    "#### 实例017：字符串构成\n",
    "\n",
    "**题目：**输入一行字符，分别统计出其中 英文字母、空格、数字和其它字符的个数。"
   ]
  },
  {
   "cell_type": "code",
   "execution_count": null,
   "id": "fbfffab7",
   "metadata": {},
   "outputs": [
    {
     "ename": "NameError",
     "evalue": "name 'char' is not defined",
     "output_type": "error",
     "traceback": [
      "\u001b[31m---------------------------------------------------------------------------\u001b[39m",
      "\u001b[31mNameError\u001b[39m                                 Traceback (most recent call last)",
      "\u001b[36mCell\u001b[39m\u001b[36m \u001b[39m\u001b[32mIn[14]\u001b[39m\u001b[32m, line 11\u001b[39m\n\u001b[32m      9\u001b[39m \u001b[38;5;28;01mif\u001b[39;00m i.isalpha():  \u001b[38;5;66;03m## isalpha方法 \u001b[39;00m\n\u001b[32m     10\u001b[39m     alp += \u001b[32m1\u001b[39m   \n\u001b[32m---> \u001b[39m\u001b[32m11\u001b[39m \u001b[38;5;28;01melif\u001b[39;00m \u001b[43mchar\u001b[49m.isdigit():  \u001b[38;5;66;03m# 判断是否为数字\u001b[39;00m\n\u001b[32m     12\u001b[39m     num += \u001b[32m1\u001b[39m\n\u001b[32m     13\u001b[39m \u001b[38;5;28;01melif\u001b[39;00m char.isspace():  \u001b[38;5;66;03m# 判断是否为空格\u001b[39;00m\n",
      "\u001b[31mNameError\u001b[39m: name 'char' is not defined"
     ]
    }
   ],
   "source": [
    "string = input(\"输入字符串：\")\n",
    "alp = 0\n",
    "num = 0\n",
    "spa = 0\n",
    "oth = 0\n",
    "\n",
    "# TODO\n",
    "for i in string: ## 遍历字符串不需要 range\n",
    "    if i.isalpha():  ## isalpha方法 \n",
    "        alp += 1   \n",
    "    elif i.isdigit():  # 判断是否为数字\n",
    "        num += 1\n",
    "    elif i.isspace():  # 判断是否为空格\n",
    "        spa += 1\n",
    "    else:  # 其他字符\n",
    "        oth += 1\n",
    "\n",
    "\n",
    "\n",
    "print(f\"空格: {spa}\")\n",
    "print(f\"数字: {num}\")\n",
    "print(f\"字母: {alp}\")\n",
    "print(f\"其他: {oth}\")"
   ]
  },
  {
   "cell_type": "markdown",
   "id": "17f4ecfe",
   "metadata": {},
   "source": [
    "#### 实例018：复读机相加\n",
    "\n",
    "**题目：**求s=a+aa+aaa+aaaa+aa...a的值，其中a是一个数字。例如2+22+222+2222+22222(此时共有5个数相加)，几个数相加由键盘控制。"
   ]
  },
  {
   "cell_type": "code",
   "execution_count": 16,
   "id": "ff65aac6",
   "metadata": {},
   "outputs": [
    {
     "name": "stdout",
     "output_type": "stream",
     "text": [
      "结果是：24690\n"
     ]
    }
   ],
   "source": [
    "a = int(input('被加数字：'))\n",
    "n = int(input('加几次？：'))\n",
    "res = 0\n",
    "res_1 = 0\n",
    "# TODO\n",
    "for i in range(0, n):\n",
    "    res_1 += a * 10 ** i\n",
    "    res += res_1 \n",
    "\n",
    "print(f\"结果是：{res}\")"
   ]
  },
  {
   "cell_type": "markdown",
   "id": "2f43c9ad",
   "metadata": {},
   "source": [
    "#### 实例021：猴子偷桃\n",
    "\n",
    "**题目：**猴子吃桃问题：猴子第一天摘下若干个桃子，当即吃了一半，还不过瘾，又多吃了一个；第二天早上又将剩下的桃子吃掉一半，又多吃了一个。以后每天早上都吃了前一天剩下的一半零一个。到第10天早上想再吃时，见只剩下一个桃子了。求第一天共摘了多少。"
   ]
  },
  {
   "cell_type": "code",
   "execution_count": null,
   "id": "29e96449",
   "metadata": {},
   "outputs": [
    {
     "name": "stdout",
     "output_type": "stream",
     "text": [
      "10\n"
     ]
    }
   ],
   "source": [
    "peach = 1\n",
    "# TODO\n",
    "for i in range(0, 9):\n",
    "    peach += 1\n",
    "    peach *= 2\n",
    "\n",
    "\n",
    "print(peach)"
   ]
  },
  {
   "cell_type": "markdown",
   "id": "8270e046",
   "metadata": {},
   "source": [
    "#### 实例022：比赛对手\n",
    "\n",
    "**题目：**两个乒乓球队进行比赛，各出三人。甲队为a,b,c三人，乙队为x,y,z三人。已抽签决定比赛名单。有人向队员打听比赛的名单。a说他不和x比，c说他不和x,z比，请编程序找出三场比赛对局的名单。\n",
    "\n",
    "**提示：**使用set()"
   ]
  },
  {
   "cell_type": "code",
   "execution_count": 23,
   "id": "dc4d31f5",
   "metadata": {},
   "outputs": [
    {
     "name": "stdout",
     "output_type": "stream",
     "text": [
      "c和y比\n",
      "a : z, b : x, c : y\n"
     ]
    }
   ],
   "source": [
    "set_1 = {\"a\", \"b\", \"c\"}\n",
    "set_2 = {\"x\", \"y\", \"z\"}\n",
    "print(f\"c和y比\")\n",
    "set_1.remove(\"c\")\n",
    "set_2.remove(\"x\")\n",
    "\n",
    "a = {\"x\", \"y\", \"z\"}\n",
    "b = {\"x\", \"y\", \"z\"}\n",
    "c = {\"x\", \"y\", \"z\"}\n",
    "c -= {\"x\", \"z\"}\n",
    "a -= {\"x\"}\n",
    "for i in a:\n",
    "    for j in b:\n",
    "        for k in c:\n",
    "            if len({i,j,k}) == 3:\n",
    "                print(f\"a : {i}, b : {j}, c : {k}\")"
   ]
  },
  {
   "cell_type": "markdown",
   "id": "fe15fdb3",
   "metadata": {},
   "source": [
    "#### 实例023：画菱形\n",
    "\n",
    "**题目：**打印出如下图案（菱形）:\n",
    "\n",
    "> &nbsp;&nbsp;&nbsp;&nbsp;\\*<br>\n",
    "> &nbsp;&nbsp;&nbsp;\\*\\*\\*<br>\n",
    "> &nbsp;&nbsp;\\*\\*\\*\\*\\*<br>\n",
    "> &nbsp;\\*\\*\\*\\*\\*\\*\\*<br>\n",
    "> &nbsp;&nbsp;\\*\\*\\*\\*\\*<br>\n",
    "> &nbsp;&nbsp;&nbsp;\\*\\*\\*<br>\n",
    "> &nbsp;&nbsp;&nbsp;&nbsp;\\*<br>"
   ]
  },
  {
   "cell_type": "code",
   "execution_count": null,
   "id": "8586dcc4",
   "metadata": {},
   "outputs": [
    {
     "name": "stdout",
     "output_type": "stream",
     "text": [
      "        *\n",
      "       ***\n",
      "      *****\n",
      "     *******\n",
      "    *********\n",
      "   ***********\n",
      "  *************\n",
      " ***************\n",
      "*****************\n",
      " ***************\n",
      "  *************\n",
      "   ***********\n",
      "    *********\n",
      "     *******\n",
      "      *****\n",
      "       ***\n",
      "        *\n"
     ]
    }
   ],
   "source": [
    "def draw(num): ##\n",
    "    for i in range(0, num):\n",
    "        for j in range(0, num-i-1):\n",
    "            print(f\" \",end=\"\")\n",
    "        for j in range(0, 2*i + 1):\n",
    "            print(f\"*\",end=\"\")\n",
    "        print(f\"\")\n",
    "    lst = list(range(0, num-1))\n",
    "    lst.reverse()\n",
    "    for i in lst:\n",
    "        for j in range(0, num-i-1):\n",
    "            print(f\" \",end=\"\")\n",
    "        for j in range(0, 2*i + 1):\n",
    "            print(f\"*\",end=\"\")\n",
    "        print(f\"\")\n",
    "\n",
    "draw(9)\n",
    "\n",
    "## 便利方法 ## ?\n",
    "def draw2(num):\n",
    "    pass"
   ]
  },
  {
   "cell_type": "markdown",
   "id": "28cccb06",
   "metadata": {},
   "source": [
    "#### 实例024：斐波那契数列II\n",
    "\n",
    "**题目：**有一分数序列：2/1，3/2，5/3，8/5，13/8，21/13...求出这个数列的前20项之和。使用 round() 保留6位小数"
   ]
  },
  {
   "cell_type": "code",
   "execution_count": 54,
   "id": "84199923",
   "metadata": {},
   "outputs": [
    {
     "name": "stdout",
     "output_type": "stream",
     "text": [
      "2\n",
      "32.660261\n"
     ]
    }
   ],
   "source": [
    "s = 0\n",
    "def fib(num):\n",
    "    if num <=2:\n",
    "        return 1\n",
    "    else:\n",
    "        return fib(num-1) + fib(num-2)\n",
    "# TODO\n",
    "print(fib(3))\n",
    "for i in range(3, 23):\n",
    "    s += fib(i) / fib(i-1)\n",
    "\n",
    "print(round(s, 6))\n",
    "\n",
    "\n",
    "## ?还有递归方法"
   ]
  },
  {
   "cell_type": "markdown",
   "id": "a3674108",
   "metadata": {},
   "source": [
    "#### 实例025： 阶乘求和\n",
    "\n",
    "**题目：**求1+2!+3!+...+20!的和。"
   ]
  },
  {
   "cell_type": "code",
   "execution_count": 1,
   "id": "f3eb1206",
   "metadata": {},
   "outputs": [
    {
     "name": "stdout",
     "output_type": "stream",
     "text": [
      "120\n",
      "2561327494111820313\n"
     ]
    }
   ],
   "source": [
    "res = 1\n",
    "# TODO\n",
    "def fac(n):\n",
    "    if n == 1 or n == 0:\n",
    "        return 1\n",
    "    else:\n",
    "        return n * fac(n - 1)\n",
    "\n",
    "print(fac(5))\n",
    "for i in range(2, 21):\n",
    "    res += fac(i)\n",
    "print(res)"
   ]
  },
  {
   "cell_type": "markdown",
   "id": "679d9099",
   "metadata": {},
   "source": [
    "#### 实例026：递归求阶乘\n",
    "\n",
    "**题目：**利用递归方法求5!。"
   ]
  },
  {
   "cell_type": "code",
   "execution_count": 1,
   "id": "7f1179aa",
   "metadata": {},
   "outputs": [
    {
     "name": "stdout",
     "output_type": "stream",
     "text": [
      "120\n"
     ]
    }
   ],
   "source": [
    "def factorial(n):\n",
    "    return n * factorial(n-1) if n > 1 else 1 #?  三元表达式\n",
    "    \n",
    "\n",
    "print(factorial(5))"
   ]
  },
  {
   "cell_type": "markdown",
   "id": "f0e5f1e9",
   "metadata": {},
   "source": [
    "#### 实例027：递归输出\n",
    "\n",
    "**题目：**利用递归函数调用方式，将所输入的字符，以相反顺序打印出来。"
   ]
  },
  {
   "cell_type": "code",
   "execution_count": null,
   "id": "aca8d90d",
   "metadata": {},
   "outputs": [
    {
     "name": "stdout",
     "output_type": "stream",
     "text": [
      "fdsafdsaNone\n"
     ]
    }
   ],
   "source": [
    "def rec(string): #?\n",
    "    if len(string) != 1:\n",
    "        rec(string[1:])\n",
    "    print(string[0],end=\"\")\n",
    "\n",
    "rec(input('string here:'))\n",
    "\n",
    "\n",
    " "
   ]
  },
  {
   "cell_type": "markdown",
   "id": "6a3804f2",
   "metadata": {},
   "source": [
    "#### 实例028：递归求等差数列\n",
    "\n",
    "**题目：**有5个人坐在一起，问第五个人多少岁？他说比第4个人大2岁。问第4个人岁数，他说比第3个人大2岁。问第三个人，又说比第2人大2岁。问第2个人，说比第一个人大2岁。最后问第一个人，他说是10岁。请问第五个人多大？"
   ]
  },
  {
   "cell_type": "code",
   "execution_count": 18,
   "id": "37b90742",
   "metadata": {},
   "outputs": [
    {
     "name": "stdout",
     "output_type": "stream",
     "text": [
      "18\n"
     ]
    }
   ],
   "source": [
    "def age(n):\n",
    "    if n != 1:\n",
    "        return 2+age(n-1)\n",
    "    else:\n",
    "        return 10\n",
    "    \n",
    "\n",
    "print(age(5))"
   ]
  },
  {
   "cell_type": "markdown",
   "id": "1f6efc38",
   "metadata": {},
   "source": [
    "#### 实例029：反向输出\n",
    "\n",
    "**题目：**给一个不多于5位的正整数，要求：一、求它是几位数，二、逆序打印出各位数字。"
   ]
  },
  {
   "cell_type": "code",
   "execution_count": null,
   "id": "4286f483",
   "metadata": {},
   "outputs": [
    {
     "name": "stdout",
     "output_type": "stream",
     "text": [
      "4321\n"
     ]
    }
   ],
   "source": [
    "n = input('输入一个正整数：') #?\n",
    "\n",
    "def how_long(n):\n",
    "    if n != \"\":\n",
    "        return 1+how_long(n[1:])\n",
    "    return 0\n",
    "\n",
    "\n",
    "def rec(n):\n",
    "    if n != \"\":\n",
    "        return rec(n[1:])+n[0] \n",
    "    return \"\"\n",
    "\n",
    "\n",
    "print(rec(n))\n",
    "\n",
    "\n",
    "n = input('输入一个正整数：')\n",
    "\n",
    "print(f\"{len(n)}位数\")\n",
    "print(n[::-1])\n"
   ]
  },
  {
   "cell_type": "markdown",
   "id": "38d24f50",
   "metadata": {},
   "source": [
    "#### 实例030：回文数\n",
    "\n",
    "**题目：**一个5位数，判断它是不是回文数。即12321是回文数，个位与万位相同，十位与千位相同。"
   ]
  },
  {
   "cell_type": "code",
   "execution_count": null,
   "id": "dd3f56a0",
   "metadata": {},
   "outputs": [
    {
     "name": "stdout",
     "output_type": "stream",
     "text": [
      "12321是回文数\n"
     ]
    }
   ],
   "source": [
    "n = input(\"随便你输入啥：\") #? \n",
    "\n",
    "\n",
    "def jugle_five(n):\n",
    "    if (n % 10) == (n // 10000) and ( n // 1000 % 10 ) == (n // 10 % 10):\n",
    "        print(f'{n}是回文数')\n",
    "    else:\n",
    "        print(f\"{n}不是回文数\")\n",
    "\n",
    "if int(n) > 9999 and int(n)<100000:\n",
    "    jugle_five(int(n))\n",
    "else:\n",
    "    print(f\"不是五位数\")\n",
    "\n",
    "\n",
    "# n = input(\"随便你输入啥：\")\n",
    "# a = 0\n",
    "# b = len(n) - 1\n",
    "# flag = True\n",
    "# while a < b:\n",
    "#     if n[a] != n[b]:\n",
    "#         print('不是回文数')\n",
    "#         flag = False\n",
    "#         break\n",
    "#     a, b = a + 1, b - 1\n",
    "\n",
    "# if flag:\n",
    "#     print('是回文数')\n"
   ]
  },
  {
   "cell_type": "markdown",
   "id": "252c0237",
   "metadata": {},
   "source": [
    "#### 实例031：字母识词\n",
    "\n",
    "**题目：**请输入星期几的第一个字母来判断一下是星期几，如果第一个字母一样，则继续判断第二个字母。"
   ]
  },
  {
   "cell_type": "code",
   "execution_count": null,
   "id": "c51ea25b",
   "metadata": {},
   "outputs": [],
   "source": [
    "# monday tuesday wednesday thursday friday saturday sunday\n",
    "\n",
    "\n",
    "d2 = input(f\"输入星期几(英语的第2个单词):\")\n",
    "\n",
    "lst1 = [\"monday\", \"tuesday\", \"wednesday\", \"thursday\", \"friday\", \"saturday\", \"sunday\"]\n",
    "\n",
    "def judge_week():\n",
    "    d1 = input(f\"输入星期几(英语的第一个单词):\")\n",
    "    if d1 == \"m\" or d1 == \"w\" or d1 == \"f\":\n",
    "        for i in lst1:\n",
    "            if d1 == lst1[i][0]:\n",
    "                print(f\"今天是{i}\")\n",
    "    else:\n",
    "        for i in list1:\n",
    "            if d2 == lst1[i][1]:\n",
    "                print(f\"今天是{i}\")\n",
    "\n",
    "judge_week()\n",
    "        \n",
    "\n"
   ]
  },
  {
   "cell_type": "markdown",
   "id": "16c054a8",
   "metadata": {},
   "source": [
    "#### 实例033：列表转字符串\n",
    "\n",
    "**题目：**按逗号分隔列表。"
   ]
  },
  {
   "cell_type": "code",
   "execution_count": null,
   "id": "8dd1a708",
   "metadata": {},
   "outputs": [],
   "source": [
    "lis = [1, 2, 3, 4, 5]\n"
   ]
  },
  {
   "cell_type": "markdown",
   "id": "da9b0e36",
   "metadata": {},
   "source": [
    "#### 实例034：调用函数\n",
    "\n",
    "**题目：**查看函数调用顺序。"
   ]
  },
  {
   "cell_type": "code",
   "execution_count": null,
   "id": "4fc214a6",
   "metadata": {},
   "outputs": [],
   "source": [
    "def hello():\n",
    "    print('Hello World!')\n",
    "\n",
    "\n",
    "def helloAgain():\n",
    "    for i in range(2):\n",
    "        hello()\n",
    "\n",
    "\n",
    "helloAgain()"
   ]
  },
  {
   "cell_type": "markdown",
   "id": "37be16c8",
   "metadata": {},
   "source": [
    "#### 实例035：设置输出颜色\n",
    "\n",
    "**题目：**体验文本颜色设置。"
   ]
  },
  {
   "cell_type": "code",
   "execution_count": null,
   "id": "7552955f",
   "metadata": {},
   "outputs": [],
   "source": [
    "class bcolors:\n",
    "    HEADER = '\\033[95m'\n",
    "    OKBLUE = '\\033[94m'\n",
    "    OKGREEN = '\\033[92m'\n",
    "    WARNING = '\\033[93m'\n",
    "    FAIL = '\\033[91m'\n",
    "    ENDC = '\\033[0m'\n",
    "    BOLD = '\\033[1m'\n",
    "    UNDERLINE = '\\033[4m'\n",
    "    \n",
    "print(bcolors.WARNING + \"警告的颜色字体!\" + bcolors.ENDC)"
   ]
  },
  {
   "cell_type": "markdown",
   "id": "6bd96029",
   "metadata": {},
   "source": [
    "#### 实例038：矩阵对角线之和\n",
    "\n",
    "**题目：**求一个3*3矩阵主对角线元素之和。"
   ]
  },
  {
   "cell_type": "code",
   "execution_count": null,
   "id": "e2524273",
   "metadata": {},
   "outputs": [],
   "source": [
    "mat = [\n",
    "    [1,2,3],\n",
    "    [3,4,5],\n",
    "    [4,5,6]\n",
    "]\n",
    "res = 0\n",
    "# TODO    \n",
    "\n",
    "print(res)"
   ]
  },
  {
   "cell_type": "markdown",
   "id": "3271e008",
   "metadata": {},
   "source": [
    "#### 实例039：有序列表插入元素\n",
    "\n",
    "**题目：**有一个已经排好序的数组。现输入一个数，将它插入数组中，要求新数组还是从小到大排序"
   ]
  },
  {
   "cell_type": "code",
   "execution_count": null,
   "id": "bfcc8674",
   "metadata": {},
   "outputs": [],
   "source": [
    "lis = [1, 10, 100, 1000, 10000, 100000]\n",
    "n = int(input('insert a number: '))\n",
    "# TODO\n",
    "    \n",
    "print(lis)"
   ]
  },
  {
   "cell_type": "markdown",
   "id": "6756ce37",
   "metadata": {},
   "source": [
    "#### 实例040：逆序列表\n",
    "\n",
    "**题目：**将一个数组逆序输出，不能调用reverse()方法"
   ]
  },
  {
   "cell_type": "code",
   "execution_count": null,
   "id": "cb36d3cf",
   "metadata": {},
   "outputs": [],
   "source": [
    "lis = [1, 10, 100, 1000, 10000, 100000]\n",
    "\n",
    "# TODO\n",
    "\n",
    "print(lis)"
   ]
  },
  {
   "cell_type": "markdown",
   "id": "01a39d10",
   "metadata": {},
   "source": [
    "#### 实例044：矩阵相加\n",
    "\n",
    "**题目：**计算两个矩阵相加。"
   ]
  },
  {
   "cell_type": "code",
   "execution_count": null,
   "id": "e289d753",
   "metadata": {},
   "outputs": [],
   "source": [
    "mat_x = [\n",
    "    [12, 7, 3],\n",
    "    [4, 5, 6],\n",
    "    [7, 8, 9]\n",
    "]\n",
    " \n",
    "mat_y = [\n",
    "    [5, 8, 1],\n",
    "    [6, 7, 3],\n",
    "    [4, 5, 9]\n",
    "]\n",
    " \n",
    "res = [\n",
    "    [0, 0, 0],\n",
    "    [0, 0, 0],\n",
    "    [0, 0, 0]\n",
    "]\n",
    "\n",
    "# TODO\n",
    "        \n",
    "print(res)"
   ]
  },
  {
   "cell_type": "markdown",
   "id": "7a047c03",
   "metadata": {},
   "source": [
    "#### 实例045：求和\n",
    "\n",
    "**题目：**统计 1 到 100 之和。"
   ]
  },
  {
   "cell_type": "code",
   "execution_count": null,
   "id": "229dd8ee",
   "metadata": {},
   "outputs": [],
   "source": []
  },
  {
   "cell_type": "markdown",
   "id": "01796942",
   "metadata": {},
   "source": [
    "#### 实例046：打破循环\n",
    "\n",
    "**题目：**求输入数字的平方，如果平方运算后小于 50 则退出。"
   ]
  },
  {
   "cell_type": "code",
   "execution_count": null,
   "id": "a14241bd",
   "metadata": {},
   "outputs": [],
   "source": []
  },
  {
   "cell_type": "markdown",
   "id": "03550f0c",
   "metadata": {},
   "source": [
    "#### 实例047：函数交换变量\n",
    "\n",
    "**题目：**两个变量值用函数互换。"
   ]
  },
  {
   "cell_type": "code",
   "execution_count": null,
   "id": "d4408b0a",
   "metadata": {},
   "outputs": [],
   "source": [
    "def exc(a, b):\n",
    "    pass"
   ]
  },
  {
   "cell_type": "markdown",
   "id": "bd6d4411",
   "metadata": {},
   "source": [
    "#### 实例048：数字比大小\n",
    "\n",
    "**题目：**数字比较。打印 a > b 或者其他情况"
   ]
  },
  {
   "cell_type": "code",
   "execution_count": null,
   "id": "4faa037f",
   "metadata": {},
   "outputs": [],
   "source": [
    "a = int(input('a = '))\n",
    "b = int(input('b = '))"
   ]
  },
  {
   "cell_type": "markdown",
   "id": "8c680ce6",
   "metadata": {},
   "source": [
    "#### 实例049：lambda\n",
    "\n",
    "**题目：**使用lambda来创建2个匿名函数, 实现输入两个数字，分别返回其最大值和最小值的功能"
   ]
  },
  {
   "cell_type": "code",
   "execution_count": null,
   "id": "f7680d8d",
   "metadata": {},
   "outputs": [],
   "source": [
    "func_max = \n",
    "func_min = \n",
    "\n",
    "a = int(input('第一个数:'))\n",
    "b = int(input('第二个数:'))\n",
    "\n",
    "print(func_max(a, b))\n",
    "print(func_min(a, b))"
   ]
  },
  {
   "cell_type": "markdown",
   "id": "f5394eaf",
   "metadata": {},
   "source": [
    "#### 实例050：随机数\n",
    "\n",
    "**题目：**在 0~100 之间输出一个随机数，不一定是整数"
   ]
  },
  {
   "cell_type": "code",
   "execution_count": 99,
   "id": "6911aa4f",
   "metadata": {},
   "outputs": [],
   "source": [
    "import random\n"
   ]
  },
  {
   "cell_type": "markdown",
   "id": "2a82faed",
   "metadata": {},
   "source": [
    "#### 实例060：字符串长度\n",
    "\n",
    "**题目：**计算字符串长度。　　"
   ]
  },
  {
   "cell_type": "code",
   "execution_count": null,
   "id": "2a0a0df8",
   "metadata": {},
   "outputs": [],
   "source": [
    "s = 'hi, there'\n"
   ]
  },
  {
   "cell_type": "markdown",
   "id": "cee99684",
   "metadata": {},
   "source": [
    "#### 实例062：查找字符串\n",
    "\n",
    "**题目：**查找s2和s3的首字母在s1里首次出现的索引值, 使用 find()"
   ]
  },
  {
   "cell_type": "code",
   "execution_count": null,
   "id": "4fa294dc",
   "metadata": {},
   "outputs": [],
   "source": [
    "s1 = 'aabbxuebixuebi'\n",
    "s2 = 'ab'\n",
    "s3 = 'xue'"
   ]
  },
  {
   "cell_type": "markdown",
   "id": "7788c972",
   "metadata": {},
   "source": [
    "#### 实例067：交换位置\n",
    "\n",
    "**题目：**输入数组，最大的与第一个元素交换，最小的与最后一个元素交换，输出数组。"
   ]
  },
  {
   "cell_type": "code",
   "execution_count": null,
   "id": "377429c5",
   "metadata": {},
   "outputs": [],
   "source": [
    "lis = [3, 2, 5, 7, 8, 1, 5]\n",
    "\n",
    "# TODO\n",
    "\n",
    "print(lis)"
   ]
  },
  {
   "cell_type": "markdown",
   "id": "e5e48c3f",
   "metadata": {},
   "source": [
    "#### 实例069：报数\n",
    "\n",
    "**题目：**有n个人围成一圈，顺序排号。从第一个人开始报数（从1到3报数），凡报到3的人退出圈子，问最后留下的是原来第几号的那位。"
   ]
  },
  {
   "cell_type": "code",
   "execution_count": null,
   "id": "4b2dc9a2",
   "metadata": {},
   "outputs": [],
   "source": [
    "n = int(input('请输入总人数:'))\n"
   ]
  },
  {
   "cell_type": "markdown",
   "id": "60c3a17f",
   "metadata": {},
   "source": [
    "#### 实例074：列表连接\n",
    "\n",
    "**题目：**将2个列表连接，打印。"
   ]
  },
  {
   "cell_type": "code",
   "execution_count": null,
   "id": "d67c8ca7",
   "metadata": {},
   "outputs": [],
   "source": [
    "a = [2, 6, 8]\n",
    "b = [7, 0, 4]\n"
   ]
  },
  {
   "cell_type": "markdown",
   "id": "360171a3",
   "metadata": {},
   "source": [
    "#### 实例076：做函数\n",
    "\n",
    "**题目：**编写一个函数，输入n为偶数时，调用函数求1/2+1/4+...+1/n, 当输入n为奇数时，调用函数1/1+1/3+...+1/n。结果保留6位小数"
   ]
  },
  {
   "cell_type": "code",
   "execution_count": null,
   "id": "cfb3bdda",
   "metadata": {},
   "outputs": [],
   "source": []
  },
  {
   "cell_type": "markdown",
   "id": "80aaf973",
   "metadata": {},
   "source": [
    "#### 实例077：遍历列表\n",
    "\n",
    "**题目：**用索引的方式循环输出列表"
   ]
  },
  {
   "cell_type": "code",
   "execution_count": null,
   "id": "0f1865aa",
   "metadata": {},
   "outputs": [],
   "source": [
    "lis = ['moyu','niupi','xuecaibichi','shengfaji','42']\n"
   ]
  },
  {
   "cell_type": "markdown",
   "id": "32e32857",
   "metadata": {},
   "source": [
    "#### 实例078：字典\n",
    "\n",
    "**题目：**找到年龄最大的人，并输出。"
   ]
  },
  {
   "cell_type": "code",
   "execution_count": null,
   "id": "765d968c",
   "metadata": {},
   "outputs": [],
   "source": [
    "person = {\n",
    "    \"li\": 18,\n",
    "    \"wang\": 50,\n",
    "    \"zhang\": 20,\n",
    "    \"sun\": 22\n",
    "}"
   ]
  },
  {
   "cell_type": "markdown",
   "id": "93b8b54d",
   "metadata": {},
   "source": [
    "#### 实例081：求未知数\n",
    "\n",
    "**题目：**809\\*??=800\\*??+9\\*?? 其中??代表的两位数, 809\\*??为四位数，8\\*??的结果为两位数，9\\*??的结果为3位数。求??代表的两位数，及809\\*??后的结果。"
   ]
  },
  {
   "cell_type": "code",
   "execution_count": null,
   "id": "fffc5500",
   "metadata": {},
   "outputs": [],
   "source": []
  },
  {
   "cell_type": "markdown",
   "id": "ca14e741",
   "metadata": {},
   "source": [
    "#### 实例083：制作奇数\n",
    "\n",
    "**题目：**求0—7所能组成的奇数个数。"
   ]
  },
  {
   "cell_type": "code",
   "execution_count": null,
   "id": "a1acba07",
   "metadata": {},
   "outputs": [],
   "source": []
  },
  {
   "cell_type": "markdown",
   "id": "8821f3c6",
   "metadata": {},
   "source": [
    "#### 实例085：整除\n",
    "\n",
    "**题目：**输入一个奇数，然后判断最少几个 9 除于该数的结果为整数。比如 999999 / 13 = 76923"
   ]
  },
  {
   "cell_type": "code",
   "execution_count": null,
   "id": "ad43dba1",
   "metadata": {},
   "outputs": [],
   "source": [
    "zi = int(input('输入一个数字:'))\n"
   ]
  },
  {
   "cell_type": "markdown",
   "id": "31f72818",
   "metadata": {},
   "source": [
    "#### 实例087：访问类成员\n",
    "\n",
    "**题目：**回答结果（结构体变量传递）。"
   ]
  },
  {
   "cell_type": "code",
   "execution_count": null,
   "id": "6933a797",
   "metadata": {},
   "outputs": [],
   "source": [
    "class Student:\n",
    "    x = 0\n",
    "    c = 0\n",
    "\n",
    "def f(stu):\n",
    "    stu.x = 20\n",
    "    stu.c = 'c'\n",
    "\n",
    "student = Student()\n",
    "student.x = 3\n",
    "student.c = 'a'\n",
    "f(student)\n",
    "print(student.x, student.c)"
   ]
  },
  {
   "cell_type": "markdown",
   "id": "9fd65545",
   "metadata": {},
   "source": [
    "#### 实例089：解码\n",
    "\n",
    "**题目：**某个公司采用公用电话传递数据，数据是四位的整数，在传递过程中是加密的，加密规则如下：每位数字都加上5,然后用和除以10的余数代替该数字，再将第一位和第四位交换，第二位和第三位交换。现在输入一个加密后的编码，请输出解码结果"
   ]
  },
  {
   "cell_type": "code",
   "execution_count": null,
   "id": "499a4383",
   "metadata": {},
   "outputs": [],
   "source": [
    "n = input(\"请输入数据编码：\")\n"
   ]
  },
  {
   "cell_type": "markdown",
   "id": "d28b655f",
   "metadata": {},
   "source": [
    "#### 实例096：计算复读次数\n",
    "\n",
    "**题目：**计算字符串中子串出现的次数。使用count()方法，或者手动解决"
   ]
  },
  {
   "cell_type": "code",
   "execution_count": null,
   "id": "57bace32",
   "metadata": {},
   "outputs": [],
   "source": [
    "s1 = 'xuebixuebixuebixuebixuebixuebixuebixue'\n",
    "s2 = 'xuebi'"
   ]
  },
  {
   "cell_type": "markdown",
   "id": "405e4de2",
   "metadata": {},
   "source": [
    "#### 实例097：写入文件\n",
    "\n",
    "**题目：**从键盘输入一些字符，逐个把它们写到文件test_1.txt里，直到输入一个 # 为止。"
   ]
  },
  {
   "cell_type": "code",
   "execution_count": null,
   "id": "e3136bad",
   "metadata": {},
   "outputs": [],
   "source": [
    "filename = input('输入文件名:\\n')"
   ]
  },
  {
   "cell_type": "markdown",
   "id": "a8759086",
   "metadata": {},
   "source": [
    "#### 实例098：磁盘写入II\n",
    "\n",
    "**题目：**从键盘输入一个字符串，将小写字母全部转换成大写字母，然后输出到一个磁盘文件test_2.txt中保存。"
   ]
  },
  {
   "cell_type": "code",
   "execution_count": null,
   "id": "d871a4c9",
   "metadata": {},
   "outputs": [],
   "source": []
  },
  {
   "cell_type": "markdown",
   "id": "b6c78c83",
   "metadata": {},
   "source": [
    "#### 实例099：磁盘读写\n",
    "\n",
    "**题目：**文件夹99中有两个磁盘文件A.txt和B.txt,各存放一行字母,要求把这两个文件中的信息合并(按字母顺序排列), 输出到一个新文件C.txt中。"
   ]
  },
  {
   "cell_type": "code",
   "execution_count": null,
   "id": "b20b7fd1",
   "metadata": {},
   "outputs": [],
   "source": []
  }
 ],
 "metadata": {
  "kernelspec": {
   "display_name": "Python 3",
   "language": "python",
   "name": "python3"
  },
  "language_info": {
   "codemirror_mode": {
    "name": "ipython",
    "version": 3
   },
   "file_extension": ".py",
   "mimetype": "text/x-python",
   "name": "python",
   "nbconvert_exporter": "python",
   "pygments_lexer": "ipython3",
   "version": "3.13.7"
  }
 },
 "nbformat": 4,
 "nbformat_minor": 5
}
