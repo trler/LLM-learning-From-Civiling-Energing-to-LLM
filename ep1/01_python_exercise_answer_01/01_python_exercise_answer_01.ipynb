{
 "cells": [
  {
   "cell_type": "markdown",
   "metadata": {},
   "source": [
    "#### 第二章 变量和简单的数据类型"
   ]
  },
  {
   "cell_type": "code",
   "execution_count": 2,
   "metadata": {},
   "outputs": [],
   "source": [
    "# 分别将 【字符串、整型、浮点型、布尔型】 赋值给不同的变量，用 type() 查看他们的类型，并print出来\n",
    "# 提示：不知道 type() 如何使用，给出了2种方式\n",
    "# https://www.csdn.net/  这是从事AI类工作经常要求助的网站之一\n",
    "# https://kimi.moonshot.cn/  求助聊天机器人，也是从事AI工作中解决问题的方式之一。没有条件访问ChatGPT的同学，可以用这个网站代替，完全免费\n",
    "# 答案写在下方单元格内"
   ]
  },
  {
   "cell_type": "code",
   "execution_count": 1,
   "metadata": {},
   "outputs": [
    {
     "name": "stdout",
     "output_type": "stream",
     "text": [
      "type(var_str): <class 'str'>\n",
      "type(var_int): <class 'int'>\n",
      "type(var_float): <class 'float'>\n",
      "type(var_boolean): <class 'bool'>\n"
     ]
    }
   ],
   "source": [
    "var_str = '785'\n",
    "var_int = 361\n",
    "var_float = 15.06\n",
    "var_boolean = True\n",
    "print(f\"type(var_str): {type(var_str)}\")\n",
    "print(f\"type(var_int): {type(var_int)}\")\n",
    "print(f\"type(var_float): {type(var_float)}\")\n",
    "print(f\"type(var_boolean): {type(var_boolean)}\")"
   ]
  },
  {
   "cell_type": "code",
   "execution_count": null,
   "metadata": {},
   "outputs": [],
   "source": [
    "# 使用 int(), float(), str() 将上述变量互相转换类型，并再次用type() 查看类型\n",
    "# 提示：布尔类型不用参与转换"
   ]
  },
  {
   "cell_type": "code",
   "execution_count": 5,
   "metadata": {},
   "outputs": [
    {
     "name": "stdout",
     "output_type": "stream",
     "text": [
      "var_int_1 = 785              type(var_int_1): <class 'int'>\n",
      "var_int_2 = 15              type(var_int_2): <class 'int'>\n",
      "========================================================================\n",
      "var_str_1 = 361              type(var_str_1): <class 'str'>\n",
      "var_str_2 = 15.06              type(var_str_2): <class 'str'>\n",
      "========================================================================\n",
      "var_float_1 = 785.0              type(var_float_1): <class 'float'>\n",
      "var_float_2 = 361.0              type(var_float_2): <class 'float'>\n"
     ]
    }
   ],
   "source": [
    "var_int_1 = int(var_str)\n",
    "var_int_2 = int(var_float)\n",
    "print(f\"var_int_1 = {var_int_1}              type(var_int_1): {type(var_int_1)}\")\n",
    "print(f\"var_int_2 = {var_int_2}              type(var_int_2): {type(var_int_2)}\")\n",
    "print(\"========================================================================\")\n",
    "\n",
    "var_str_1 = str(var_int)\n",
    "var_str_2 = str(var_float)\n",
    "print(f\"var_str_1 = {var_str_1}              type(var_str_1): {type(var_str_1)}\")\n",
    "print(f\"var_str_2 = {var_str_2}              type(var_str_2): {type(var_str_2)}\")\n",
    "print(\"========================================================================\")\n",
    "\n",
    "var_float_1 = float(var_str)\n",
    "var_float_2 = float(var_int)\n",
    "print(f\"var_float_1 = {var_float_1}              type(var_float_1): {type(var_float_1)}\")\n",
    "print(f\"var_float_2 = {var_float_2}              type(var_float_2): {type(var_float_2)}\")"
   ]
  },
  {
   "cell_type": "code",
   "execution_count": null,
   "metadata": {},
   "outputs": [],
   "source": [
    "# 用代码实现，定义一个变量，来接收圆的半径，并且分别计算圆的周长和面积。注意变量命名要符合它的实际含义，不要用拼音\n",
    "# 提示：周长circumference = π * d         面积area = π * r²"
   ]
  },
  {
   "cell_type": "code",
   "execution_count": 8,
   "metadata": {},
   "outputs": [
    {
     "name": "stdout",
     "output_type": "stream",
     "text": [
      "已收到输入半径：18.56\n",
      "圆的周长是：116.5568\n",
      "圆的面积是：1081.647104\n"
     ]
    }
   ],
   "source": [
    "radius = input(\"请输入圆的半径：\")\n",
    "radius = float(radius)\n",
    "print(f\"已收到输入半径：{radius}\")\n",
    "pi = 3.14\n",
    "\n",
    "circumference = 2 * radius * pi\n",
    "print(f\"圆的周长是：{circumference}\")\n",
    "\n",
    "area = pi * radius ** 2\n",
    "print(f\"圆的面积是：{area}\")"
   ]
  },
  {
   "cell_type": "code",
   "execution_count": 5,
   "metadata": {},
   "outputs": [],
   "source": [
    "# 定义如下变量\n",
    "# loan_amount: 贷款金额\n",
    "# annual_rate: 年平均利率\n",
    "\n",
    "# 计算 30 年后的本息一共多少\n",
    "# total: 本息总额"
   ]
  },
  {
   "cell_type": "code",
   "execution_count": 11,
   "metadata": {},
   "outputs": [
    {
     "name": "stdout",
     "output_type": "stream",
     "text": [
      "30年后本息总额为：8243201.97元\n"
     ]
    }
   ],
   "source": [
    "loan_amount = 3_600_000\n",
    "annual_rate = 0.028\n",
    "\n",
    "total = loan_amount * (1 + annual_rate) ** 30\n",
    "print(f\"30年后本息总额为：{round(total, 2)}元\")  # round()函数：保留几位小数，可以自己搜一搜~"
   ]
  },
  {
   "cell_type": "code",
   "execution_count": null,
   "metadata": {},
   "outputs": [],
   "source": [
    "# 将下面两个字符串拼接起来，并使用 f-字符串 完整打印本句和下一句歌词\n",
    "# 提示：str_1需要把末尾的空格用python自带的字符串方法处理掉"
   ]
  },
  {
   "cell_type": "code",
   "execution_count": 13,
   "metadata": {},
   "outputs": [
    {
     "name": "stdout",
     "output_type": "stream",
     "text": [
      "秋刀鱼的滋味，猫跟你都想了解。\n"
     ]
    }
   ],
   "source": [
    "str_1 = '秋刀 '\n",
    "str_2 = '鱼的滋味'\n",
    "\n",
    "print(f\"{str_1.rstrip()}{str_2}，猫跟你都想了解。\")"
   ]
  },
  {
   "cell_type": "code",
   "execution_count": null,
   "metadata": {},
   "outputs": [],
   "source": [
    "# 使用特殊字符串 制表符\\t 和 换行符\\n\n",
    "# 要求只能用一行代码实现，打印如下内容，预期输出：\n",
    "\n",
    "# 姓名    年龄    职业\n",
    "# --------------------\n",
    "# 张三    28    CV算法工程师\n",
    "# 李四    25    NLP算法工程师\n",
    "# 王五    32    AI产品经理"
   ]
  },
  {
   "cell_type": "code",
   "execution_count": 14,
   "metadata": {},
   "outputs": [
    {
     "name": "stdout",
     "output_type": "stream",
     "text": [
      "姓名\t年龄\t职业\n",
      "--------------------\n",
      "张三\t28\tCV算法工程师\n",
      "李四\t25\tNLP算法工程师\n",
      "王五\t32\tAI产品经理\n"
     ]
    }
   ],
   "source": [
    "print(\"姓名\\t年龄\\t职业\\n--------------------\\n张三\\t28\\tCV算法工程师\\n李四\\t25\\tNLP算法工程师\\n王五\\t32\\tAI产品经理\")"
   ]
  },
  {
   "cell_type": "markdown",
   "metadata": {},
   "source": [
    "#### 第三章 列表"
   ]
  },
  {
   "cell_type": "code",
   "execution_count": null,
   "metadata": {},
   "outputs": [],
   "source": [
    "# 尝试访问到如下列表的值: 777 和 999"
   ]
  },
  {
   "cell_type": "code",
   "execution_count": 17,
   "metadata": {},
   "outputs": [
    {
     "name": "stdout",
     "output_type": "stream",
     "text": [
      "777\n",
      "999\n"
     ]
    }
   ],
   "source": [
    "arr_1 = [\n",
    "    [15, 30, 999],\n",
    "    [3, 777, 5],\n",
    "    [123, 88, 1024]\n",
    "]\n",
    "\n",
    "print(arr_1[1][1])\n",
    "print(arr_1[0][2])"
   ]
  },
  {
   "cell_type": "code",
   "execution_count": 7,
   "metadata": {},
   "outputs": [],
   "source": [
    "# 求arr_1里所有元素的最大值、最小值、平均值\n",
    "# 提示：用到 len() 方法"
   ]
  },
  {
   "cell_type": "code",
   "execution_count": 20,
   "metadata": {},
   "outputs": [
    {
     "name": "stdout",
     "output_type": "stream",
     "text": [
      "方法1:\n",
      "最大值是:1024\n",
      "最小值是:3\n",
      "平均值是:340.44444444444446\n",
      "\n",
      "方法2:\n",
      "最大值是:1024\n",
      "最小值是:3\n",
      "平均值是:340.44444444444446\n"
     ]
    }
   ],
   "source": [
    "# 方法1：定义一个空列表，把arr_1所有元素装进去\n",
    "arr_new = []\n",
    "for row in arr_1:  # 取到arr_1的每一行\n",
    "    for element in row:\n",
    "        arr_new.append(element)\n",
    "\n",
    "print(\"方法1:\")\n",
    "print(f\"最大值是:{max(arr_new)}\")\n",
    "print(f\"最小值是:{min(arr_new)}\")\n",
    "print(f\"平均值是:{sum(arr_new) / len(arr_new)}\")\n",
    "\n",
    "# 方法2 （需要一点技巧）：定义4个变量，并初始化值\n",
    "# max_num: 最大值\n",
    "# min_num：最小值\n",
    "# total_sum：总和\n",
    "# count：计数器，计算列表里边有多少个元素\n",
    "# 在遍历列表中不断更新\n",
    "max_num = -1\n",
    "min_num = float('inf')\n",
    "total_sum = 0\n",
    "count = 0\n",
    "\n",
    "for row in arr_1:\n",
    "    for element in row:\n",
    "        if max_num < element:  # 如果当前元素 element 比 max_num 大，就把 max_num 更新为当前元素 element 的值\n",
    "            max_num = element\n",
    "\n",
    "        if min_num > element:  # 如果当前元素 element 比 min_num 小，就把 min_num 更新为当前元素 element 的值\n",
    "            min_num = element\n",
    "\n",
    "        total_sum += element  # 每次循环都累加当前元素 element 的值\n",
    "        count += 1  # 每次循环都把计数器 count 加 1\n",
    "\n",
    "print(\"\\n方法2:\")\n",
    "print(f\"最大值是:{max_num}\")\n",
    "print(f\"最小值是:{min_num}\")\n",
    "print(f\"平均值是:{total_sum / count}\")\n"
   ]
  },
  {
   "cell_type": "code",
   "execution_count": null,
   "metadata": {},
   "outputs": [],
   "source": [
    "# 将arr_1中的 1024 改为 2048，打印整个列表"
   ]
  },
  {
   "cell_type": "code",
   "execution_count": 21,
   "metadata": {},
   "outputs": [
    {
     "name": "stdout",
     "output_type": "stream",
     "text": [
      "[[15, 30, 999], [3, 777, 5], [123, 88, 2048]]\n"
     ]
    }
   ],
   "source": [
    "arr_1[2][2] = 2048\n",
    "print(arr_1)"
   ]
  },
  {
   "cell_type": "code",
   "execution_count": null,
   "metadata": {},
   "outputs": [],
   "source": [
    "# 给arr_1最后一行的末尾添加一个元素 111，并将最后一行用pop()方法弹出打印\n",
    "# 提示：用到append()方法"
   ]
  },
  {
   "cell_type": "code",
   "execution_count": 22,
   "metadata": {},
   "outputs": [
    {
     "name": "stdout",
     "output_type": "stream",
     "text": [
      "last_row: [123, 88, 2048, 111]\n"
     ]
    }
   ],
   "source": [
    "arr_1[2].append(111)\n",
    "last_row = arr_1.pop()\n",
    "print(f\"last_row: {last_row}\")"
   ]
  },
  {
   "cell_type": "code",
   "execution_count": null,
   "metadata": {},
   "outputs": [],
   "source": [
    "# 在arr_1中的777后边插入888\n",
    "# 提示：用insert()方法"
   ]
  },
  {
   "cell_type": "code",
   "execution_count": 23,
   "metadata": {},
   "outputs": [
    {
     "name": "stdout",
     "output_type": "stream",
     "text": [
      "[[15, 30, 999], [3, 777, 888, 5]]\n"
     ]
    }
   ],
   "source": [
    "arr_1[1].insert(2, 888)\n",
    "print(arr_1)"
   ]
  },
  {
   "cell_type": "code",
   "execution_count": null,
   "metadata": {},
   "outputs": [],
   "source": [
    "# 给定列表arr_2，将其从大到小排序"
   ]
  },
  {
   "cell_type": "code",
   "execution_count": 24,
   "metadata": {},
   "outputs": [
    {
     "name": "stdout",
     "output_type": "stream",
     "text": [
      "[8888, 753, 128, 34, 16, 7, 3]\n"
     ]
    }
   ],
   "source": [
    "arr_2 =[7, 128, 34, 8888, 3, 16, 753]\n",
    "\n",
    "arr_2.sort(reverse=True)\n",
    "print(arr_2)"
   ]
  },
  {
   "cell_type": "markdown",
   "metadata": {},
   "source": [
    "#### 第四章 for循环"
   ]
  },
  {
   "cell_type": "code",
   "execution_count": null,
   "metadata": {},
   "outputs": [],
   "source": [
    "# 用 range() 创建一个数值列表arr_3 ，要求从1开始，每隔6取一次，一直到61\n",
    "# 预期输出：1, 7, 13...61"
   ]
  },
  {
   "cell_type": "code",
   "execution_count": 26,
   "metadata": {},
   "outputs": [
    {
     "name": "stdout",
     "output_type": "stream",
     "text": [
      "[1, 7, 13, 19, 25, 31, 37, 43, 49, 55, 61]\n"
     ]
    }
   ],
   "source": [
    "arr_3 = []\n",
    "for val in range(1, 63, 6):\n",
    "    arr_3.append(val)\n",
    "\n",
    "print(arr_3)"
   ]
  },
  {
   "cell_type": "code",
   "execution_count": null,
   "metadata": {},
   "outputs": [],
   "source": [
    "# 用列表推导式创建一个数值列表arr_4，要求满足 y=2x+1，其中x从0到100"
   ]
  },
  {
   "cell_type": "code",
   "execution_count": 27,
   "metadata": {},
   "outputs": [
    {
     "name": "stdout",
     "output_type": "stream",
     "text": [
      "[1, 3, 5, 7, 9, 11, 13, 15, 17, 19, 21, 23, 25, 27, 29, 31, 33, 35, 37, 39, 41, 43, 45, 47, 49, 51, 53, 55, 57, 59, 61, 63, 65, 67, 69, 71, 73, 75, 77, 79, 81, 83, 85, 87, 89, 91, 93, 95, 97, 99, 101, 103, 105, 107, 109, 111, 113, 115, 117, 119, 121, 123, 125, 127, 129, 131, 133, 135, 137, 139, 141, 143, 145, 147, 149, 151, 153, 155, 157, 159, 161, 163, 165, 167, 169, 171, 173, 175, 177, 179, 181, 183, 185, 187, 189, 191, 193, 195, 197, 199, 201]\n"
     ]
    }
   ],
   "source": [
    "arr_4 = [2 * val + 1 for val in range(101)]\n",
    "print(arr_4)"
   ]
  },
  {
   "cell_type": "code",
   "execution_count": null,
   "metadata": {},
   "outputs": [],
   "source": [
    "# 基于arr_4，使用列表切片，打印arr_4的前5个元素、后7个元素、索引从3开始往后取4个元素"
   ]
  },
  {
   "cell_type": "code",
   "execution_count": 28,
   "metadata": {},
   "outputs": [
    {
     "name": "stdout",
     "output_type": "stream",
     "text": [
      "arr_4[:5] = [1, 3, 5, 7, 9]\n",
      "arr_4[-7:] = [189, 191, 193, 195, 197, 199, 201]\n",
      "arr_4[3:7] = [7, 9, 11, 13]\n"
     ]
    }
   ],
   "source": [
    "print(f\"arr_4[:5] = {arr_4[:5]}\")\n",
    "print(f\"arr_4[-7:] = {arr_4[-7:]}\")\n",
    "print(f\"arr_4[3:7] = {arr_4[3:7]}\")"
   ]
  },
  {
   "cell_type": "markdown",
   "metadata": {},
   "source": [
    "#### 第五章 if语句"
   ]
  },
  {
   "cell_type": "code",
   "execution_count": null,
   "metadata": {},
   "outputs": [],
   "source": [
    "# 给定数组arr_5和初始值count_1，当数组内元素能被3整除时，count自身+1，打印arr_5里边能被3整除的元素的个数\n",
    "# 提示：使用for循环，if语句"
   ]
  },
  {
   "cell_type": "code",
   "execution_count": 29,
   "metadata": {},
   "outputs": [
    {
     "name": "stdout",
     "output_type": "stream",
     "text": [
      "5\n"
     ]
    }
   ],
   "source": [
    "count_1 = 0\n",
    "arr_5 = [val ** 3 for val in range(2, 18)]\n",
    "\n",
    "for i in arr_5:\n",
    "    if i % 3 == 0:\n",
    "        count_1 += 1\n",
    "\n",
    "print(count_1)"
   ]
  },
  {
   "cell_type": "code",
   "execution_count": null,
   "metadata": {},
   "outputs": [],
   "source": [
    "# 找出arr_5中元素除以7的余数 小于等于5的个数"
   ]
  },
  {
   "cell_type": "code",
   "execution_count": 30,
   "metadata": {},
   "outputs": [
    {
     "name": "stdout",
     "output_type": "stream",
     "text": [
      "9\n"
     ]
    }
   ],
   "source": [
    "count_2 = 0\n",
    "\n",
    "for i in arr_5:\n",
    "    if i % 7 <= 5:\n",
    "        count_2 += 1\n",
    "\n",
    "print(count_2)"
   ]
  },
  {
   "cell_type": "code",
   "execution_count": 8,
   "metadata": {},
   "outputs": [],
   "source": [
    "# 某游乐园要求：给定身高height和体重weight。\n",
    "# 如果身高低于140cm，并且体重低于35kg，就可以免票\n",
    "# 如果身高高于140cm，或者体重高于35kg，半票\n",
    "# 如果身高高于140cm，并且体重高于35kg，全票\n",
    "# 请打印相应信息"
   ]
  },
  {
   "cell_type": "code",
   "execution_count": 32,
   "metadata": {},
   "outputs": [
    {
     "name": "stdout",
     "output_type": "stream",
     "text": [
      "你可以半票\n"
     ]
    }
   ],
   "source": [
    "height = 120\n",
    "weight = 40\n",
    "\n",
    "if height < 140 and weight < 35:\n",
    "    print(\"你可以免票\")\n",
    "elif height > 140 and weight > 35:\n",
    "    print(\"你要买全票\")\n",
    "else:\n",
    "    print(\"你可以半票\")"
   ]
  },
  {
   "cell_type": "code",
   "execution_count": null,
   "metadata": {},
   "outputs": [],
   "source": [
    "# 指定用户名字name，和已注册用户名列表registered_names\n",
    "# 如果name只有1个字或3个字，打印“用户名只能是2个字”\n",
    "# 如果name是空字符串，打印“请输入名字”\n",
    "# 如果name是2个字，分2种情况：\n",
    "#       如果用户名在列表中，打印“该用户名已被使用”\n",
    "#       如果不在，打印“新用户名可用”"
   ]
  },
  {
   "cell_type": "code",
   "execution_count": 34,
   "metadata": {},
   "outputs": [
    {
     "name": "stdout",
     "output_type": "stream",
     "text": [
      "新用户名可用\n"
     ]
    }
   ],
   "source": [
    "registered_names = [\n",
    "    \"赵伟\", \"钱芳\", \"孙娜\", \"李强\", \"周敏\", \"吴静\", \"郑磊\", \"王军\", \"冯勇\", \"陈艳\",\n",
    "    \"褚杰\", \"卫丽\", \"蒋涛\", \"沈娟\", \"韩明\", \"杨超\", \"朱霞\", \"秦辉\", \"尤平\", \"许娟\",\n",
    "    \"吕敏\", \"施强\", \"张伟\", \"孔芳\", \"曹娜\", \"严静\", \"华磊\", \"金军\", \"魏勇\", \"陶艳\",\n",
    "    \"姜杰\", \"谢丽\", \"崔涛\", \"贾娟\", \"陈明\", \"高超\", \"林霞\", \"罗辉\", \"彭平\", \"许娟\",\n",
    "    \"张敏\", \"徐强\", \"陈伟\", \"宋芳\", \"梁娜\", \"程静\", \"任磊\", \"于军\", \"柳勇\", \"段艳\",\n",
    "    \"雷杰\", \"易丽\", \"侯涛\", \"龙娟\", \"蒋明\", \"沈超\", \"傅霞\", \"景辉\", \"熊平\", \"翟娟\",\n",
    "    \"戴敏\", \"魏强\", \"廖伟\", \"邹芳\", \"汪娜\", \"朱静\", \"冯磊\", \"王军\", \"陈勇\", \"韩艳\",\n",
    "    \"潘杰\", \"葛丽\", \"徐涛\", \"金娟\", \"严明\", \"徐超\", \"吕霞\", \"范辉\", \"董平\", \"蒋娟\",\n",
    "    \"贾敏\", \"蔡强\", \"丁伟\", \"彭芳\", \"曾娜\", \"肖静\", \"姜磊\", \"谢军\", \"袁勇\", \"余艳\",\n",
    "    \"田杰\", \"唐丽\", \"李涛\", \"吕娟\", \"何明\", \"谭超\", \"吴霞\", \"姚辉\", \"方平\", \"徐娟\"\n",
    "]\n",
    "\n",
    "name = input(\"请输入您的用户名：\")\n",
    "if len(name) == 1 or len(name) == 3:\n",
    "    print(\"用户名只能是2个字\")\n",
    "\n",
    "if not name:\n",
    "    print(\"请输入名字\")\n",
    "\n",
    "if len(name) == 2:\n",
    "    if name in registered_names:\n",
    "        print(\"该用户名已被使用\")\n",
    "    else:\n",
    "        print(\"新用户名可用\")"
   ]
  },
  {
   "cell_type": "markdown",
   "metadata": {},
   "source": [
    "#### 第六章 字典"
   ]
  },
  {
   "cell_type": "code",
   "execution_count": null,
   "metadata": {},
   "outputs": [],
   "source": [
    "# 创建一个空字典product_dict，存储商品价格，其中键代表商品名称，对应的值是价格，用浮点型表示\n",
    "# 依次往里边添加   吐司 - 4.5， 芝士蛋糕 - 30.0， 巧克力慕斯 - 45.0\n",
    "# 打印3行内容，\"XXX的价格是XXX元\"\n",
    "\n",
    "# 将芝士蛋糕的价格改为18.8，再次打印"
   ]
  },
  {
   "cell_type": "code",
   "execution_count": 35,
   "metadata": {},
   "outputs": [
    {
     "name": "stdout",
     "output_type": "stream",
     "text": [
      "吐司的价格是4.5元\n",
      "芝士蛋糕的价格是30.0元\n",
      "巧克力慕斯的价格是45.0元\n",
      "\n",
      "\n",
      "吐司的价格是4.5元\n",
      "芝士蛋糕的价格是18.8元\n",
      "巧克力慕斯的价格是45.0元\n"
     ]
    }
   ],
   "source": [
    "product_dict = {}\n",
    "\n",
    "product_dict['吐司'] = 4.5\n",
    "product_dict['芝士蛋糕'] = 30.0\n",
    "product_dict['巧克力慕斯'] = 45.0\n",
    "\n",
    "for key, val in product_dict.items():\n",
    "    print(f\"{key}的价格是{val}元\")\n",
    "\n",
    "print(\"\\n\")\n",
    "product_dict['芝士蛋糕'] = 18.8\n",
    "for key, val in product_dict.items():\n",
    "    print(f\"{key}的价格是{val}元\")"
   ]
  },
  {
   "cell_type": "code",
   "execution_count": 10,
   "metadata": {},
   "outputs": [],
   "source": [
    "# 假设顾客要购买的清单是required_list，需要的数量是required_nums\n",
    "# 遍历字典product_dict，如果清单的货物不在字典中，打印“对不起，XXX卖完了”\n",
    "# 最后打印“一共XXX元”\n",
    "# 提示：可能会使用get()方法"
   ]
  },
  {
   "cell_type": "code",
   "execution_count": 38,
   "metadata": {},
   "outputs": [
    {
     "name": "stdout",
     "output_type": "stream",
     "text": [
      "对不起，毛毛虫面包卖完了\n",
      "对不起，奶油泡芙卖完了\n",
      "一共41.3元\n"
     ]
    }
   ],
   "source": [
    "required_list = ['毛毛虫面包', '吐司', '奶油泡芙', '芝士蛋糕']\n",
    "required_nums = [3, 5, 18, 1]\n",
    "\n",
    "total = 0  # 总金额\n",
    "for idx in range(len(required_list)):\n",
    "    if required_list[idx] in product_dict:  # 不需要访问product_dict.keys()， 也能检查某个字符串在不在key中\n",
    "        total += required_nums[idx] * product_dict[required_list[idx]]\n",
    "    else:\n",
    "        print(f\"对不起，{required_list[idx]}卖完了\")\n",
    "\n",
    "print(f\"一共{total}元\")"
   ]
  },
  {
   "cell_type": "markdown",
   "metadata": {},
   "source": [
    "#### 第七章 input()和while循环"
   ]
  },
  {
   "cell_type": "code",
   "execution_count": null,
   "metadata": {},
   "outputs": [],
   "source": [
    "# 获取一个int类型的数值输入\n",
    "# 写一个while True循环\n",
    "# 当这个数小于100的时候，就把这个数自身+1，每当能被7整除，就打印出来，其余情况就什么都不打印\n",
    "# 这个数大于100时，就退出整个循环"
   ]
  },
  {
   "cell_type": "code",
   "execution_count": 2,
   "metadata": {},
   "outputs": [
    {
     "name": "stdout",
     "output_type": "stream",
     "text": [
      "70\n",
      "77\n",
      "84\n",
      "91\n",
      "98\n"
     ]
    }
   ],
   "source": [
    "num = input(\"请输入整数：\")\n",
    "num = int(num)\n",
    "\n",
    "while True:\n",
    "    if num < 100:\n",
    "        num += 1\n",
    "    else:\n",
    "        break\n",
    "    \n",
    "    if num % 7 == 0:\n",
    "        print(num)\n",
    "    else:\n",
    "        continue"
   ]
  }
 ],
 "metadata": {
  "kernelspec": {
   "display_name": "base",
   "language": "python",
   "name": "python3"
  },
  "language_info": {
   "codemirror_mode": {
    "name": "ipython",
    "version": 3
   },
   "file_extension": ".py",
   "mimetype": "text/x-python",
   "name": "python",
   "nbconvert_exporter": "python",
   "pygments_lexer": "ipython3",
   "version": "3.11.11"
  }
 },
 "nbformat": 4,
 "nbformat_minor": 2
}
