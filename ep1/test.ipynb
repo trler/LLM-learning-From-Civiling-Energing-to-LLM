{
 "cells": [
  {
   "cell_type": "code",
   "execution_count": 1,
   "id": "20dd67ad",
   "metadata": {},
   "outputs": [
    {
     "name": "stdout",
     "output_type": "stream",
     "text": [
      "函数被执行力\n",
      "(0, '这是第0次')\n",
      "(1, '这是第1次')\n",
      "(2, '这是第2次')\n",
      "(3, '这是第3次')\n"
     ]
    }
   ],
   "source": [
    "def generate_numbers(n):\n",
    "    print(\"函数被执行力\")\n",
    "    for i in range(n):\n",
    "        yield i, f\"这是第{i}次\"  # 防止一下吧数据全塞到内存\n",
    "\n",
    "gen = generate_numbers(5)\n",
    "# breakpoint()  # 说明并没有实行这个函数调用  # 换成return 就会被执行了\n",
    "\n",
    "# for num in gen:\n",
    "#     print(num)\n",
    "\n",
    "print(next(gen))\n",
    "print(next(gen))\n",
    "print(next(gen))\n",
    "print(next(gen))"
   ]
  },
  {
   "cell_type": "code",
   "execution_count": null,
   "id": "906e833a",
   "metadata": {},
   "outputs": [],
   "source": [
    "next(gen)"
   ]
  }
 ],
 "metadata": {
  "kernelspec": {
   "display_name": "base",
   "language": "python",
   "name": "python3"
  },
  "language_info": {
   "codemirror_mode": {
    "name": "ipython",
    "version": 3
   },
   "file_extension": ".py",
   "mimetype": "text/x-python",
   "name": "python",
   "nbconvert_exporter": "python",
   "pygments_lexer": "ipython3",
   "version": "3.11.11"
  }
 },
 "nbformat": 4,
 "nbformat_minor": 5
}
